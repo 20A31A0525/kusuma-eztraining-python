{
  "nbformat": 4,
  "nbformat_minor": 0,
  "metadata": {
    "colab": {
      "provenance": [],
      "authorship_tag": "ABX9TyNiE4UJJKjkHKPWReas2Bkm",
      "include_colab_link": true
    },
    "kernelspec": {
      "name": "python3",
      "display_name": "Python 3"
    },
    "language_info": {
      "name": "python"
    }
  },
  "cells": [
    {
      "cell_type": "markdown",
      "metadata": {
        "id": "view-in-github",
        "colab_type": "text"
      },
      "source": [
        "<a href=\"https://colab.research.google.com/github/20A31A0525/kusuma-eztraining-python/blob/main/Project_2_Timerclock.ipynb\" target=\"_parent\"><img src=\"https://colab.research.google.com/assets/colab-badge.svg\" alt=\"Open In Colab\"/></a>"
      ]
    },
    {
      "cell_type": "code",
      "execution_count": 2,
      "metadata": {
        "colab": {
          "base_uri": "https://localhost:8080/"
        },
        "id": "Q4V-9BsCtfGP",
        "outputId": "732aa290-4e3e-4bab-ea90-0140c27efede"
      },
      "outputs": [
        {
          "output_type": "stream",
          "name": "stdout",
          "text": [
            "Enter the time in seconds:60\n",
            "01:00\n",
            "00:59\n",
            "00:58\n",
            "00:57\n",
            "00:56\n",
            "00:55\n",
            "00:54\n",
            "00:53\n",
            "00:52\n",
            "00:51\n",
            "00:50\n",
            "00:49\n",
            "00:48\n",
            "00:47\n",
            "00:46\n",
            "00:45\n",
            "00:44\n",
            "00:43\n",
            "00:42\n",
            "00:41\n",
            "00:40\n",
            "00:39\n",
            "00:38\n",
            "00:37\n",
            "00:36\n",
            "00:35\n",
            "00:34\n",
            "00:33\n",
            "00:32\n",
            "00:31\n",
            "00:30\n",
            "00:29\n",
            "00:28\n",
            "00:27\n",
            "00:26\n",
            "00:25\n",
            "00:24\n",
            "00:23\n",
            "00:22\n",
            "00:21\n",
            "00:20\n",
            "00:19\n",
            "00:18\n",
            "00:17\n",
            "00:16\n",
            "00:15\n",
            "00:14\n",
            "00:13\n",
            "00:12\n",
            "00:11\n",
            "00:10\n",
            "00:09\n",
            "00:08\n",
            "00:07\n",
            "00:06\n",
            "00:05\n",
            "00:04\n",
            "00:03\n",
            "00:02\n",
            "00:01\n",
            "Finished\n"
          ]
        }
      ],
      "source": [
        "import time\n",
        "def countdown(t):\n",
        "  while(t):\n",
        "    mins,secs=divmod(t,60)\n",
        "    timer='{:02d}:{:02d}'.format(mins,secs)\n",
        "    print(timer)\n",
        "    time.sleep(1)\n",
        "    t=t-1\n",
        "  print(\"Finished\")\n",
        "t=input(\"Enter the time in seconds:\")\n",
        "countdown(int(t))"
      ]
    },
    {
      "cell_type": "code",
      "source": [],
      "metadata": {
        "id": "yPWR_enIuWdK"
      },
      "execution_count": null,
      "outputs": []
    }
  ]
}