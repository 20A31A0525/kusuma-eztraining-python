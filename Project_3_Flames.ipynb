{
  "nbformat": 4,
  "nbformat_minor": 0,
  "metadata": {
    "colab": {
      "provenance": [],
      "authorship_tag": "ABX9TyPOOdqulG0NiLQqHTpXJrKm",
      "include_colab_link": true
    },
    "kernelspec": {
      "name": "python3",
      "display_name": "Python 3"
    },
    "language_info": {
      "name": "python"
    }
  },
  "cells": [
    {
      "cell_type": "markdown",
      "metadata": {
        "id": "view-in-github",
        "colab_type": "text"
      },
      "source": [
        "<a href=\"https://colab.research.google.com/github/20A31A0525/kusuma-eztraining-python/blob/main/Project_3_Flames.ipynb\" target=\"_parent\"><img src=\"https://colab.research.google.com/assets/colab-badge.svg\" alt=\"Open In Colab\"/></a>"
      ]
    },
    {
      "cell_type": "code",
      "execution_count": 15,
      "metadata": {
        "colab": {
          "base_uri": "https://localhost:8080/"
        },
        "id": "wP1WQkhixil1",
        "outputId": "5c3fa616-9ac7-4662-b2be-ff41ff6623b8"
      },
      "outputs": [
        {
          "output_type": "stream",
          "name": "stdout",
          "text": [
            "Enter the name1:vaishnavi\n",
            "Enter the name2:kusuma\n",
            "vaishnavi\n",
            "kusuma\n",
            "11\n",
            "Relationship : Marriage\n"
          ]
        }
      ],
      "source": [
        "name1=input(\"Enter the name1:\")\n",
        "name2=input(\"Enter the name2:\")\n",
        "name1=name1.replace(\" \",\"\")\n",
        "name2=name2.replace(\" \",\"\")\n",
        "print(name1)\n",
        "print(name2)\n",
        "for i in name1:\n",
        "  for j in name2:\n",
        "    if i==j:\n",
        "      name1=name1.replace(i,\"\",1)\n",
        "      name2=name2.replace(j,\"\",1)\n",
        "      break\n",
        "count=len(name1+name2)\n",
        "print(count)\n",
        "if count>0:\n",
        "  list1=['Friends','Lovers','Affection','Marriage','Enimes','Sibilings']\n",
        "  while(len(list1)>1):\n",
        "    c=count%len(list1)\n",
        "    s_index=c-1\n",
        "    if s_index>=0:\n",
        "      left=list1[:s_index]\n",
        "      right=list1[s_index+1:]\n",
        "      list1=right+left\n",
        "    else:\n",
        "      list1=list1[:len(list1)-1]\n",
        "  print(\"Relationship :\",list1[0])\n",
        "else:\n",
        "  print(\"Enter different names\")\n"
      ]
    },
    {
      "cell_type": "code",
      "source": [],
      "metadata": {
        "id": "cgdsKKoWz2Zn"
      },
      "execution_count": null,
      "outputs": []
    }
  ]
}