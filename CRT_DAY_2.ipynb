{
  "nbformat": 4,
  "nbformat_minor": 0,
  "metadata": {
    "colab": {
      "provenance": [],
      "authorship_tag": "ABX9TyOF9JHDGNZRRGxcXRqhxQtF",
      "include_colab_link": true
    },
    "kernelspec": {
      "name": "python3",
      "display_name": "Python 3"
    },
    "language_info": {
      "name": "python"
    }
  },
  "cells": [
    {
      "cell_type": "markdown",
      "metadata": {
        "id": "view-in-github",
        "colab_type": "text"
      },
      "source": [
        "<a href=\"https://colab.research.google.com/github/20A31A0525/kusuma-eztraining-python/blob/main/CRT_DAY_2.ipynb\" target=\"_parent\"><img src=\"https://colab.research.google.com/assets/colab-badge.svg\" alt=\"Open In Colab\"/></a>"
      ]
    },
    {
      "cell_type": "markdown",
      "source": [
        "**Bit wise operators**\n",
        "\n",
        "intranet=particulat\n",
        "\n",
        "internet=wide\n",
        "\n",
        "os and 1s some operations if u do like dz it will be faster\n",
        "\n",
        "Like-x=compressing data\n",
        "\n",
        "sending data in network to network 0-1 or ON OFF or true false\n",
        "\n",
        "\n",
        "*   &\n",
        "*   |\n",
        "*   ^\n",
        "*   ~\n",
        "*   !\n",
        "*   <<\n",
        "*   '>>'\n",
        "\n",
        "\n",
        "\n",
        "\n",
        "\n",
        "\n",
        "\n",
        "\n",
        "\n",
        "\n"
      ],
      "metadata": {
        "id": "AOejKe499aM1"
      }
    },
    {
      "cell_type": "code",
      "source": [
        "print(10&4)\n",
        "print(bin(10))\n",
        "print(bin(4))\n",
        "print(12&7)\n",
        "print(bin(12))\n",
        "print(bin(7))\n",
        "print(10|4)\n",
        "print(12|4)\n",
        "print(~10)\n",
        "print(~-10)\n",
        "print(10^4)\n",
        "print(5^6)\n",
        "print(bin(5))\n",
        "print(bin(6))\n",
        "print(9^8)\n",
        "print(10<<2)\n",
        "print(bin(10))\n",
        "print(bin(2))\n",
        "print(10>>2)"
      ],
      "metadata": {
        "colab": {
          "base_uri": "https://localhost:8080/"
        },
        "id": "JrB3aIvf-y4Y",
        "outputId": "98bd7b2d-2f59-45cd-e2d1-0591fa438cae"
      },
      "execution_count": null,
      "outputs": [
        {
          "output_type": "stream",
          "name": "stdout",
          "text": [
            "0\n",
            "0b1010\n",
            "0b100\n",
            "4\n",
            "0b1100\n",
            "0b111\n",
            "14\n",
            "12\n",
            "-11\n",
            "9\n",
            "14\n",
            "3\n",
            "0b101\n",
            "0b110\n",
            "1\n",
            "40\n",
            "0b1010\n",
            "0b10\n",
            "2\n"
          ]
        }
      ]
    },
    {
      "cell_type": "markdown",
      "source": [
        "get two no's as input both less than or equals to 15,perform bitwise and ,or"
      ],
      "metadata": {
        "id": "k8WOTnNdEobt"
      }
    },
    {
      "cell_type": "code",
      "source": [
        "n1,n2=map(int,input().split())\n",
        "print(bin(n1))\n",
        "print(bin(n2))\n",
        "print(n1&n2)\n",
        "print(n1|n2)"
      ],
      "metadata": {
        "colab": {
          "base_uri": "https://localhost:8080/"
        },
        "id": "GJyPcyFQ-4_T",
        "outputId": "0b0bd29e-1d6c-4ce7-a220-8b491643c298"
      },
      "execution_count": null,
      "outputs": [
        {
          "output_type": "stream",
          "name": "stdout",
          "text": [
            "10 12\n",
            "0b1010\n",
            "0b1100\n",
            "8\n",
            "14\n"
          ]
        }
      ]
    },
    {
      "cell_type": "markdown",
      "source": [
        "Multiple input in a single line"
      ],
      "metadata": {
        "id": "gwmVXJSZKeSN"
      }
    },
    {
      "cell_type": "code",
      "source": [
        "n=int(input(\"enter\"))\n",
        "a=list(map(int,input().strip().split()))[:n]\n",
        "print(a)"
      ],
      "metadata": {
        "colab": {
          "base_uri": "https://localhost:8080/"
        },
        "id": "vq8ZgpbLFLEz",
        "outputId": "8aa43e28-3d05-4a3d-a2e1-83be60207509"
      },
      "execution_count": null,
      "outputs": [
        {
          "output_type": "stream",
          "name": "stdout",
          "text": [
            "enter5\n",
            "1 2 3 4 5 6\n",
            "[1, 2, 3, 4, 5]\n"
          ]
        }
      ]
    },
    {
      "cell_type": "code",
      "source": [
        "n=int(input(\"enter\"))\n",
        "a=list(map(int,input().strip().split()))[:n]\n",
        "print(a)"
      ],
      "metadata": {
        "colab": {
          "base_uri": "https://localhost:8080/"
        },
        "id": "xW1N1kvzLF68",
        "outputId": "bcb20781-19ed-4eda-ff72-63aca2a6cff7"
      },
      "execution_count": null,
      "outputs": [
        {
          "output_type": "stream",
          "name": "stdout",
          "text": [
            "enter5\n",
            "      1 2 3 4 5     \n",
            "[1, 2, 3, 4, 5]\n"
          ]
        }
      ]
    },
    {
      "cell_type": "markdown",
      "source": [
        "Find product of 10 integer numbers"
      ],
      "metadata": {
        "id": "wkpEdXp4NSa6"
      }
    },
    {
      "cell_type": "code",
      "source": [
        "a=list(map(int,input().split()))[:10]\n",
        "pro=1\n",
        "for i in a:\n",
        "  pro=pro*i\n",
        "print(\"product is:\",pro)\n"
      ],
      "metadata": {
        "colab": {
          "base_uri": "https://localhost:8080/"
        },
        "id": "fXaJNi-pNX9v",
        "outputId": "7e1af4a9-ba07-482e-a9c5-75a437af1928"
      },
      "execution_count": null,
      "outputs": [
        {
          "output_type": "stream",
          "name": "stdout",
          "text": [
            "1 2 3 4 5 6 7 8 9 10\n",
            "product is: 3628800\n"
          ]
        }
      ]
    },
    {
      "cell_type": "code",
      "source": [
        "print(\"Its\",\"a\",\"good\",\"day\")\n",
        "print(\"All\",\"is\",\"good\")"
      ],
      "metadata": {
        "colab": {
          "base_uri": "https://localhost:8080/"
        },
        "id": "qI9xVqldNpZF",
        "outputId": "070599a8-c270-4b14-bee0-6cfc2e8282a1"
      },
      "execution_count": null,
      "outputs": [
        {
          "output_type": "stream",
          "name": "stdout",
          "text": [
            "Its a good day\n",
            "All is good\n"
          ]
        }
      ]
    },
    {
      "cell_type": "code",
      "source": [
        "print(\"Its\",\"a\",\"good\",\"day\",sep=\"*\",end=\" \")\n",
        "print(\"All\",\"is\",\"good\",sep='$')"
      ],
      "metadata": {
        "colab": {
          "base_uri": "https://localhost:8080/"
        },
        "id": "uk8c0xwsPKTf",
        "outputId": "cd74a2d0-73ac-4b45-d995-4b9145be5f84"
      },
      "execution_count": null,
      "outputs": [
        {
          "output_type": "stream",
          "name": "stdout",
          "text": [
            "Its*a*good*day All$is$good\n"
          ]
        }
      ]
    },
    {
      "cell_type": "code",
      "source": [
        "print(\"Its\",\"a\",\"good\",\"day\",end=\" \")\n",
        "print(\"All\",\"is\",\"good\",sep='***',end=\" \")\n",
        "print(\"joy\")"
      ],
      "metadata": {
        "colab": {
          "base_uri": "https://localhost:8080/"
        },
        "id": "Cej3bhsHPtH4",
        "outputId": "0e0985fb-62ce-491e-d6c4-466b63dabe62"
      },
      "execution_count": null,
      "outputs": [
        {
          "output_type": "stream",
          "name": "stdout",
          "text": [
            "Its a good day All***is***good joy\n"
          ]
        }
      ]
    },
    {
      "cell_type": "markdown",
      "source": [
        "Print\n",
        "\n",
        "   1.Triangle\n",
        "   2.heart\n",
        "   3.frog\n"
      ],
      "metadata": {
        "id": "uZo65gyWR34G"
      }
    },
    {
      "cell_type": "code",
      "source": [
        "print('*','*','*','*','*',sep=\" \")\n",
        "print('','*','*','*','*',sep=\" \")\n",
        "print('','','*','*','*',sep=\" \")\n",
        "print('','','','*','*',sep=\" \")\n",
        "print('','','','','*',sep=\" \")\n",
        "\n"
      ],
      "metadata": {
        "colab": {
          "base_uri": "https://localhost:8080/"
        },
        "id": "eHLxUxLvRN2M",
        "outputId": "2fc48a73-9b8a-46bc-c9c1-5f4bea711dc0"
      },
      "execution_count": null,
      "outputs": [
        {
          "output_type": "stream",
          "name": "stdout",
          "text": [
            "* * * * *\n",
            " * * * *\n",
            "  * * *\n",
            "   * *\n",
            "    *\n"
          ]
        }
      ]
    },
    {
      "cell_type": "code",
      "source": [
        "print('*','*','*','*','*','*',sep=\" \")\n",
        "print('*','','','','*','','','','*',sep=\" \")\n",
        "print('','*','','','','','','','*',sep=\" \")\n",
        "print('','','*','','','','','*',sep=\" \")\n",
        "print('','','','*','','','*',sep=\" \")\n",
        "print('','','','','*','*',sep=\" \")\n",
        "print('','','','','','*',sep=\" \")"
      ],
      "metadata": {
        "colab": {
          "base_uri": "https://localhost:8080/"
        },
        "id": "R-pLitHUTsqc",
        "outputId": "1ad85b1c-683b-4b5f-81ed-550e1a51a89b"
      },
      "execution_count": null,
      "outputs": [
        {
          "output_type": "stream",
          "name": "stdout",
          "text": [
            "* * * * * *\n",
            "*    *    *\n",
            " *       *\n",
            "  *     *\n",
            "   *   *\n",
            "    * *\n",
            "     *\n"
          ]
        }
      ]
    },
    {
      "cell_type": "markdown",
      "source": [
        "**Conditional statements** **or control statements**\n",
        "\n",
        "\n",
        "1.   If\n",
        "2.   if else\n",
        "2.   else if \n",
        "2.   else if ladder\n",
        "2.   nested if\n",
        "\n",
        "\n",
        "\n",
        "\n"
      ],
      "metadata": {
        "id": "rXpb9qH7ZFNH"
      }
    },
    {
      "cell_type": "markdown",
      "source": [
        "Question:\n",
        "\n",
        "Temperature above 45=hotest\n",
        "\n",
        "Temperature 40-45=hot\n",
        "\n",
        "Temperature 25-40=Moderate\n",
        "\n",
        "Temperature 10-25=Cold\n",
        "\n",
        "Temperature below ten=Chill"
      ],
      "metadata": {
        "id": "PMsicRbuaHok"
      }
    },
    {
      "cell_type": "code",
      "source": [
        "temp=int(input(\"Enter temperature of your area:\"))\n",
        "if temp>=45:\n",
        "  print(\"Your area is Hotest\")\n",
        "elif temp>=40 and temp<45:\n",
        "  print(\"Your area is Hot\")\n",
        "elif temp>=25 and temp<40:\n",
        "  print(\"Your area is Moderate\")\n",
        "elif temp>=10 and temp<25:\n",
        "  print(\"Your area is Cold\")\n",
        "else:\n",
        "  print(\"Your area is Chill\")"
      ],
      "metadata": {
        "colab": {
          "base_uri": "https://localhost:8080/"
        },
        "id": "UqZ2MckKZ1gk",
        "outputId": "068c0083-6973-4fb8-8fb9-bbbc9313c1ed"
      },
      "execution_count": null,
      "outputs": [
        {
          "output_type": "stream",
          "name": "stdout",
          "text": [
            "Enter temperature of your area:25\n",
            "Your area is Moderate\n"
          ]
        }
      ]
    },
    {
      "cell_type": "markdown",
      "source": [
        "Question1:\n",
        "\n",
        "Given a number findout wether it is 500 or not"
      ],
      "metadata": {
        "id": "3VHdZ-TJw3lN"
      }
    },
    {
      "cell_type": "code",
      "source": [
        "n=int(input(\"Enter a number\"))\n",
        "if n==500:\n",
        "  print(\"Yes it is 500\")\n",
        "else:\n",
        "  print(\"Not it is not 500\")"
      ],
      "metadata": {
        "colab": {
          "base_uri": "https://localhost:8080/"
        },
        "id": "044fFH-Ew-lh",
        "outputId": "67da92a2-0698-48cc-8db2-9273710ca798"
      },
      "execution_count": null,
      "outputs": [
        {
          "output_type": "stream",
          "name": "stdout",
          "text": [
            "Enter a number10\n",
            "Not it is not 500\n"
          ]
        }
      ]
    },
    {
      "cell_type": "markdown",
      "source": [
        "Question 2:\n",
        "\n",
        "check given number is even-positive or even-negitive or odd-positive or odd-negitive"
      ],
      "metadata": {
        "id": "1kNYlGg7xORZ"
      }
    },
    {
      "cell_type": "code",
      "source": [
        "n=int(input(\"Enter a number\"))\n",
        "if n>=0:\n",
        "  if n%2==0:\n",
        "    print('Number is even-positive')\n",
        "  else:\n",
        "    print('Number is odd-positive')\n",
        "else:\n",
        "  if n%2==0:\n",
        "    print('Number is even-negitive')\n",
        "  else:\n",
        "    print('Number is odd-negitive')\n",
        "\n"
      ],
      "metadata": {
        "colab": {
          "base_uri": "https://localhost:8080/"
        },
        "id": "N0o0IQgsxdHS",
        "outputId": "8a395410-3adf-445f-bd00-ef784b0759e0"
      },
      "execution_count": null,
      "outputs": [
        {
          "output_type": "stream",
          "name": "stdout",
          "text": [
            "Enter a number12\n",
            "Number is even-positive\n"
          ]
        }
      ]
    },
    {
      "cell_type": "markdown",
      "source": [
        "Question 3:\n",
        "\n",
        "Get two numbers as input and findout which is bigger"
      ],
      "metadata": {
        "id": "8A_T1j4TyDqf"
      }
    },
    {
      "cell_type": "code",
      "source": [
        "n1,n2=map(int,input(\"enter two numbers\").split())\n",
        "if n1>n2:\n",
        "  print('Greater number is:',n1)\n",
        "else:\n",
        "  print('Greater number is :',n2)"
      ],
      "metadata": {
        "colab": {
          "base_uri": "https://localhost:8080/"
        },
        "id": "oGmCUT89x6UW",
        "outputId": "21957f77-f8a6-418b-b30b-c133bda03389"
      },
      "execution_count": null,
      "outputs": [
        {
          "output_type": "stream",
          "name": "stdout",
          "text": [
            "enter two numbers3 7\n",
            "Greater number is : 7\n"
          ]
        }
      ]
    },
    {
      "cell_type": "markdown",
      "source": [
        "Question 4:\n",
        "\n",
        "check given number is float or int"
      ],
      "metadata": {
        "id": "KpaBoXe2ykmH"
      }
    },
    {
      "cell_type": "code",
      "source": [
        "n1=input(\"enter integer or float\")\n",
        "if '.' in n1:\n",
        "  print(\"It is float\")\n",
        "else:\n",
        "  print(\"It is integer\")"
      ],
      "metadata": {
        "colab": {
          "base_uri": "https://localhost:8080/"
        },
        "id": "h3XMoAlsyhH-",
        "outputId": "934d8a00-5fa3-4882-9722-f039ca7d0209"
      },
      "execution_count": null,
      "outputs": [
        {
          "output_type": "stream",
          "name": "stdout",
          "text": [
            "enter integer or float5.6\n",
            "It is float\n"
          ]
        }
      ]
    },
    {
      "cell_type": "code",
      "source": [
        "n=10.3\n",
        "re=n-int(n)\n",
        "if re>0:\n",
        "  print(\"int\")\n",
        "else:\n",
        "  print(\"float\")"
      ],
      "metadata": {
        "colab": {
          "base_uri": "https://localhost:8080/"
        },
        "id": "qLbofOZYAVSQ",
        "outputId": "d567b351-6a44-4cde-d3cd-c7617f90a1bd"
      },
      "execution_count": null,
      "outputs": [
        {
          "output_type": "stream",
          "name": "stdout",
          "text": [
            "int\n"
          ]
        }
      ]
    },
    {
      "cell_type": "markdown",
      "source": [
        "Question 5:\n",
        "\n",
        "get 3 numbers print greatest among three"
      ],
      "metadata": {
        "id": "tamCMI01zCf8"
      }
    },
    {
      "cell_type": "code",
      "source": [
        "n1,n2,n3=map(int,input(\"Enter three numbers\").split())\n",
        "n1=max(n1,n2)\n",
        "n1=max(n1,n3)\n",
        "print(\"Maximum among three numbers is\",n1)"
      ],
      "metadata": {
        "colab": {
          "base_uri": "https://localhost:8080/"
        },
        "id": "ZB4gghFhy_6u",
        "outputId": "6f60cf9c-0acf-4f38-9700-2dd53a3262f4"
      },
      "execution_count": null,
      "outputs": [
        {
          "output_type": "stream",
          "name": "stdout",
          "text": [
            "Enter three numbers10 12 11\n",
            "Maximum among three numbers is 12\n"
          ]
        }
      ]
    },
    {
      "cell_type": "markdown",
      "source": [
        "Question 6:\n",
        "\n",
        "check given number is divisible by 11 or not"
      ],
      "metadata": {
        "id": "LEOSTt2hzewa"
      }
    },
    {
      "cell_type": "code",
      "source": [
        "n1=int(input(\"Enter a number\"))\n",
        "if n1%11==0:\n",
        "  print(\"Given Number is divisible by 11\")\n",
        "else:\n",
        "  print(\"Given Number Not divisible by 11\")"
      ],
      "metadata": {
        "colab": {
          "base_uri": "https://localhost:8080/"
        },
        "id": "LM-f8yCwzbp7",
        "outputId": "5cde87c5-1150-43f8-b32b-e09bbef97bfe"
      },
      "execution_count": null,
      "outputs": [
        {
          "output_type": "stream",
          "name": "stdout",
          "text": [
            "Enter a number121\n",
            "Given Number is divisible by 11\n"
          ]
        }
      ]
    },
    {
      "cell_type": "markdown",
      "source": [
        "Question 7:\n",
        "\n",
        "check given number is divisible by 2 and 5"
      ],
      "metadata": {
        "id": "rgYozgT1z3va"
      }
    },
    {
      "cell_type": "markdown",
      "source": [],
      "metadata": {
        "id": "mgdSUtbX__fN"
      }
    },
    {
      "cell_type": "code",
      "source": [
        "n=int(input(\"Enter a number\"))\n",
        "if n%2==0 and n%5==0:\n",
        "  print(\"Yes the number is divisible by both 2 & 5\")\n",
        "else:\n",
        "  print(\"No the number is not divisible by both 2&5\")"
      ],
      "metadata": {
        "colab": {
          "base_uri": "https://localhost:8080/"
        },
        "id": "9zp9hT8fz1m9",
        "outputId": "1ad401af-d367-4741-ff10-f556ba3470e8"
      },
      "execution_count": null,
      "outputs": [
        {
          "output_type": "stream",
          "name": "stdout",
          "text": [
            "Enter a number10\n",
            "Yes the number is divisible by both 2 & 5\n"
          ]
        }
      ]
    },
    {
      "cell_type": "code",
      "source": [
        "i=1\n",
        "while(i<=10):\n",
        "  print(i)\n",
        "  i=i+1\n",
        "  "
      ],
      "metadata": {
        "colab": {
          "base_uri": "https://localhost:8080/"
        },
        "id": "eu7p1Qmp0sod",
        "outputId": "a00880df-bc52-4530-db83-cb9907dfd1ef"
      },
      "execution_count": null,
      "outputs": [
        {
          "output_type": "stream",
          "name": "stdout",
          "text": [
            "1\n",
            "2\n",
            "3\n",
            "4\n",
            "5\n",
            "6\n",
            "7\n",
            "8\n",
            "9\n",
            "10\n"
          ]
        }
      ]
    },
    {
      "cell_type": "code",
      "source": [
        "i=2\n",
        "while(i<=20):\n",
        "  print(i)\n",
        "  i=i+2\n",
        "  "
      ],
      "metadata": {
        "colab": {
          "base_uri": "https://localhost:8080/"
        },
        "id": "sAWY480BD8eG",
        "outputId": "19b91c94-ba7c-4f70-f9d5-2927b9a86647"
      },
      "execution_count": null,
      "outputs": [
        {
          "output_type": "stream",
          "name": "stdout",
          "text": [
            "2\n",
            "4\n",
            "6\n",
            "8\n",
            "10\n",
            "12\n",
            "14\n",
            "16\n",
            "18\n",
            "20\n"
          ]
        }
      ]
    },
    {
      "cell_type": "code",
      "source": [
        "i=1\n",
        "while(i<=30):\n",
        "  print(i)\n",
        "  i=i+2"
      ],
      "metadata": {
        "colab": {
          "base_uri": "https://localhost:8080/"
        },
        "id": "o_7DwWWmED_x",
        "outputId": "5e437969-b886-46f0-8411-c31a49a05150"
      },
      "execution_count": null,
      "outputs": [
        {
          "output_type": "stream",
          "name": "stdout",
          "text": [
            "1\n",
            "3\n",
            "5\n",
            "7\n",
            "9\n",
            "11\n",
            "13\n",
            "15\n",
            "17\n",
            "19\n",
            "21\n",
            "23\n",
            "25\n",
            "27\n",
            "29\n"
          ]
        }
      ]
    },
    {
      "cell_type": "code",
      "source": [
        "for i in range(1,11):\n",
        "  print(i)"
      ],
      "metadata": {
        "colab": {
          "base_uri": "https://localhost:8080/"
        },
        "id": "5fHw8yuuIKi4",
        "outputId": "3bccc4a6-31f3-4a26-fa06-d9eeec46fe5e"
      },
      "execution_count": null,
      "outputs": [
        {
          "output_type": "stream",
          "name": "stdout",
          "text": [
            "1\n",
            "2\n",
            "3\n",
            "4\n",
            "5\n",
            "6\n",
            "7\n",
            "8\n",
            "9\n",
            "10\n"
          ]
        }
      ]
    },
    {
      "cell_type": "code",
      "source": [
        "for i in range(2,11,2):\n",
        "  print(i)"
      ],
      "metadata": {
        "colab": {
          "base_uri": "https://localhost:8080/"
        },
        "id": "JpjmUyKYIZRx",
        "outputId": "874157cb-95f4-4951-eac1-e00a0472f0e2"
      },
      "execution_count": null,
      "outputs": [
        {
          "output_type": "stream",
          "name": "stdout",
          "text": [
            "2\n",
            "4\n",
            "6\n",
            "8\n",
            "10\n"
          ]
        }
      ]
    },
    {
      "cell_type": "code",
      "source": [
        "for i in range(1,31,2):\n",
        "  print(i)"
      ],
      "metadata": {
        "colab": {
          "base_uri": "https://localhost:8080/"
        },
        "id": "GJoTgQKWIspx",
        "outputId": "2da4d907-0ef1-4112-fab4-a003256a2c15"
      },
      "execution_count": null,
      "outputs": [
        {
          "output_type": "stream",
          "name": "stdout",
          "text": [
            "1\n",
            "3\n",
            "5\n",
            "7\n",
            "9\n",
            "11\n",
            "13\n",
            "15\n",
            "17\n",
            "19\n",
            "21\n",
            "23\n",
            "25\n",
            "27\n",
            "29\n"
          ]
        }
      ]
    },
    {
      "cell_type": "code",
      "source": [
        "import random\n",
        "n1,n2=map(int,input(\"Enter the range\").split())\n",
        "r=random.randrange(n1,n2)\n",
        "guess=int(input())\n",
        "while(r!=guess):\n",
        "  if guess>r:\n",
        "    print(\"Your number is high please guess number again\")\n",
        "    guess=int(input())\n",
        "  elif guess<r:\n",
        "    print(\"Your number is low please guess number again\")\n",
        "    guess=int(input())\n",
        "  else:\n",
        "    break\n",
        "print(\"Yahooo! Your guess is correct......✅\")\n"
      ],
      "metadata": {
        "colab": {
          "base_uri": "https://localhost:8080/"
        },
        "id": "9ifZFJmcIwpD",
        "outputId": "5e63c730-2086-40ff-f627-ba2dc111f812"
      },
      "execution_count": null,
      "outputs": [
        {
          "output_type": "stream",
          "name": "stdout",
          "text": [
            "Enter the range1 10\n",
            "4\n",
            "Your number is high please guess number again\n",
            "3\n",
            "Your number is high please guess number again\n",
            "2\n",
            "Your number is high please guess number again\n",
            "1\n",
            "Yahooo! Your guess is correct......✅\n"
          ]
        }
      ]
    }
  ]
}