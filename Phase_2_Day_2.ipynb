{
  "nbformat": 4,
  "nbformat_minor": 0,
  "metadata": {
    "colab": {
      "provenance": [],
      "authorship_tag": "ABX9TyMNY5EopnUtCqCswCtiIarE",
      "include_colab_link": true
    },
    "kernelspec": {
      "name": "python3",
      "display_name": "Python 3"
    },
    "language_info": {
      "name": "python"
    }
  },
  "cells": [
    {
      "cell_type": "markdown",
      "metadata": {
        "id": "view-in-github",
        "colab_type": "text"
      },
      "source": [
        "<a href=\"https://colab.research.google.com/github/20A31A0525/kusuma-eztraining-python/blob/main/Phase_2_Day_2.ipynb\" target=\"_parent\"><img src=\"https://colab.research.google.com/assets/colab-badge.svg\" alt=\"Open In Colab\"/></a>"
      ]
    },
    {
      "cell_type": "markdown",
      "source": [
        "**Program for happy number**"
      ],
      "metadata": {
        "id": "6pfJ-dfJvAFP"
      }
    },
    {
      "cell_type": "code",
      "execution_count": null,
      "metadata": {
        "colab": {
          "base_uri": "https://localhost:8080/"
        },
        "id": "olB48qFruJ2f",
        "outputId": "926f216b-d066-4e5d-8194-485e68508a85"
      },
      "outputs": [
        {
          "output_type": "stream",
          "name": "stdout",
          "text": [
            "enter a number31\n",
            "Happy number\n"
          ]
        }
      ],
      "source": [
        "def happy(n):\n",
        "  s=r=0\n",
        "  while(n>=0):\n",
        "    for i in range(0,len(str(n))+1):\n",
        "      r=n%10\n",
        "      s=s+r**2\n",
        "      n=n//10\n",
        "    return s\n",
        "n=int(input(\"enter a number\"))\n",
        "res=n\n",
        "while(res!=1 and res!=4):\n",
        "  res=happy(res)\n",
        "if res==1:\n",
        "  print(\"Happy number\")\n",
        "else:\n",
        "  print(\"Not a happy number\")"
      ]
    },
    {
      "cell_type": "markdown",
      "source": [
        "Protected variable"
      ],
      "metadata": {
        "id": "EaCTCHLjyT-w"
      }
    },
    {
      "cell_type": "code",
      "source": [
        "class encap:\n",
        "  _a=10\n",
        "  c=20\n",
        "  def encapfunction(self):\n",
        "    _b=200\n",
        "    print(\"Encap function-accessing protected\")\n",
        "    print(self._a+10)\n",
        "obj=encap()\n",
        "print(obj._a)\n",
        "obj.encapfunction()\n",
        "print(obj.c)\n"
      ],
      "metadata": {
        "colab": {
          "base_uri": "https://localhost:8080/"
        },
        "id": "n0nW6sDzyWY4",
        "outputId": "b3def718-6ece-409c-b31f-f25c80e893d5"
      },
      "execution_count": null,
      "outputs": [
        {
          "output_type": "stream",
          "name": "stdout",
          "text": [
            "10\n",
            "Encap function-accessing protected\n",
            "20\n",
            "20\n"
          ]
        }
      ]
    },
    {
      "cell_type": "markdown",
      "source": [
        "**Private Variable**"
      ],
      "metadata": {
        "id": "SU6EvtROzBc5"
      }
    },
    {
      "cell_type": "code",
      "source": [
        "class encap:\n",
        "  __a=10\n",
        "  print(__a)\n",
        "  def encapfunction(self):\n",
        "    print(\"encap function\")\n",
        "    print(self.__a)\n",
        "obj=encap()\n",
        "obj.encapfunction()\n",
        "print(obj.__a)\n"
      ],
      "metadata": {
        "colab": {
          "base_uri": "https://localhost:8080/",
          "height": 252
        },
        "id": "MWKqebSHy_w6",
        "outputId": "1d1baea8-7efe-47b3-942c-f466e0ba42c2"
      },
      "execution_count": null,
      "outputs": [
        {
          "output_type": "stream",
          "name": "stdout",
          "text": [
            "10\n",
            "encap function\n",
            "10\n"
          ]
        },
        {
          "output_type": "error",
          "ename": "AttributeError",
          "evalue": "ignored",
          "traceback": [
            "\u001b[0;31m---------------------------------------------------------------------------\u001b[0m",
            "\u001b[0;31mAttributeError\u001b[0m                            Traceback (most recent call last)",
            "\u001b[0;32m<ipython-input-11-2a6ad28625d2>\u001b[0m in \u001b[0;36m<module>\u001b[0;34m\u001b[0m\n\u001b[1;32m      7\u001b[0m \u001b[0mobj\u001b[0m\u001b[0;34m=\u001b[0m\u001b[0mencap\u001b[0m\u001b[0;34m(\u001b[0m\u001b[0;34m)\u001b[0m\u001b[0;34m\u001b[0m\u001b[0;34m\u001b[0m\u001b[0m\n\u001b[1;32m      8\u001b[0m \u001b[0mobj\u001b[0m\u001b[0;34m.\u001b[0m\u001b[0mencapfunction\u001b[0m\u001b[0;34m(\u001b[0m\u001b[0;34m)\u001b[0m\u001b[0;34m\u001b[0m\u001b[0;34m\u001b[0m\u001b[0m\n\u001b[0;32m----> 9\u001b[0;31m \u001b[0mprint\u001b[0m\u001b[0;34m(\u001b[0m\u001b[0mobj\u001b[0m\u001b[0;34m.\u001b[0m\u001b[0m__a\u001b[0m\u001b[0;34m)\u001b[0m\u001b[0;34m\u001b[0m\u001b[0;34m\u001b[0m\u001b[0m\n\u001b[0m",
            "\u001b[0;31mAttributeError\u001b[0m: 'encap' object has no attribute '__a'"
          ]
        }
      ]
    },
    {
      "cell_type": "markdown",
      "source": [
        "**Polymorphism**\n",
        "\n",
        "one item or same item used for different purposes\n",
        "\n",
        "Type:\n",
        "\n",
        "1. overloading\n",
        "\n",
        "    a. operator overloading\n",
        "\n",
        "    b. method overloading\n",
        "    \n",
        "2. overriding"
      ],
      "metadata": {
        "id": "0NqhTktf1l7p"
      }
    },
    {
      "cell_type": "code",
      "source": [
        "class moverload:\n",
        "  def display(self,a=None,b=None):\n",
        "    print(a,b)\n",
        "obj=moverload()\n",
        "obj.display()\n",
        "obj.display(10,20)\n",
        "obj.display(10)"
      ],
      "metadata": {
        "colab": {
          "base_uri": "https://localhost:8080/"
        },
        "id": "kNEgzedk0JHq",
        "outputId": "8f4981fb-763f-4ba1-ca46-f9958408041e"
      },
      "execution_count": null,
      "outputs": [
        {
          "output_type": "stream",
          "name": "stdout",
          "text": [
            "None None\n",
            "10 20\n",
            "10 None\n"
          ]
        }
      ]
    },
    {
      "cell_type": "markdown",
      "source": [
        "If a method is defective or cannot be used inside derived class it will take it from its base class or from parent class. "
      ],
      "metadata": {
        "id": "m9moY7Ma56Ix"
      }
    },
    {
      "cell_type": "code",
      "source": [
        "class parent:\n",
        "  def __init__(self):\n",
        "    self.value=\"Inside parent\"\n",
        "  def show(self):\n",
        "    print(self.value)\n",
        "class child:\n",
        "  def __init__(self):\n",
        "    self.value=\"inside child\"\n",
        "  def show(self):\n",
        "    print(self.value)\n",
        "obj1=parent()\n",
        "obj1.show()\n",
        "obj2=child()\n",
        "obj2.show()"
      ],
      "metadata": {
        "colab": {
          "base_uri": "https://localhost:8080/"
        },
        "id": "w4f0PRsK3aa3",
        "outputId": "da8cc161-cedc-4e54-a0d8-3087e5e91d2d"
      },
      "execution_count": null,
      "outputs": [
        {
          "output_type": "stream",
          "name": "stdout",
          "text": [
            "Inside parent\n",
            "inside child\n"
          ]
        }
      ]
    },
    {
      "cell_type": "markdown",
      "source": [
        "Polymorphism"
      ],
      "metadata": {
        "id": "04BEElOm7Rsj"
      }
    },
    {
      "cell_type": "code",
      "source": [
        "class vijayawada():\n",
        "  def placement(self):\n",
        "    print(\"Vijayawada placename is KLU\")\n",
        "  def student(self):\n",
        "    print(\"Yes- vijayawada\")\n",
        "  def which_year(self):\n",
        "    print(\"3rd year\")\n",
        "class hyd():\n",
        "  def placement(self):\n",
        "    print(\"Hyd placename is HYD-KLU\")\n",
        "  def student(self):\n",
        "    print(\"Yes-HYD\")\n",
        "  def which_year(self):\n",
        "    print(\"3rd year\")\n",
        "obj=vijayawada()\n",
        "obj_h=hyd()\n",
        "for d in (obj,obj_h):\n",
        "  d.placement()\n",
        "  d.student()\n",
        "  d.which_year()"
      ],
      "metadata": {
        "colab": {
          "base_uri": "https://localhost:8080/"
        },
        "id": "mgjoc8RF7T-X",
        "outputId": "e5622059-636d-4cbd-a956-63624d050647"
      },
      "execution_count": null,
      "outputs": [
        {
          "output_type": "stream",
          "name": "stdout",
          "text": [
            "Vijayawada placename is KLU\n",
            "Yes- vijayawada\n",
            "3rd year\n",
            "Hyd placename is HYD-KLU\n",
            "Yes-HYD\n",
            "3rd year\n"
          ]
        }
      ]
    },
    {
      "cell_type": "markdown",
      "source": [
        "# Data Structures\n",
        "1. Helps to write efficient programs\n",
        "2. Linear- arrya,linked list,stack,queue,matrix\n",
        "3. Non lnear-binary tree,heap,hash table,graph\n",
        "4. Linear-storing data sufficiently\n",
        "5. Non-linear-No sequential style requrired.\n",
        "6. static- array\n",
        "7. dynamic-list,stack,queue."
      ],
      "metadata": {
        "id": "GP8qED5sA9h2"
      }
    },
    {
      "cell_type": "markdown",
      "source": [
        "**Linked list**\n",
        "\n",
        "real time example train\n",
        "\n",
        "as the name says list of items which are linked with one another is called as linked list.\n",
        "\n",
        "Types: single,double,circular."
      ],
      "metadata": {
        "id": "FTvQl_hXHp9f"
      }
    },
    {
      "cell_type": "markdown",
      "source": [
        "**Creating linked list**\n",
        "\n",
        "step1: Create the node\n",
        "\n",
        "step2: Partition the node with two segments data and None\n",
        "\n",
        "step3: Add value into the blank node \n",
        "\n",
        "step4: Mark the node as head\n",
        "\n",
        "step5: Create the next node by following the above steps.\n",
        "\n",
        "step6: Establish link between first node and second node\n",
        "\n",
        "**Display linked list**\n",
        "travesal is required to tail node inorder to display existing linked list\n",
        "\n"
      ],
      "metadata": {
        "id": "Wbtzmjm2Nrxq"
      }
    },
    {
      "cell_type": "code",
      "source": [
        "class Node:\n",
        "  def __init__(self,data):\n",
        "    self.data=data\n",
        "    self.next=None\n",
        "class sll:\n",
        "  def __init__(self):\n",
        "    self.head=None\n",
        "  def display(self):\n",
        "    if self.head is None:\n",
        "      print(\"Linked list is empty\")\n",
        "    else:\n",
        "      temp=self.head\n",
        "      while temp:\n",
        "        print(temp.data,\"->\",end=\"\")\n",
        "        temp=temp.next\n",
        "obj=sll()\n",
        "n=Node(10)\n",
        "obj.head=n\n",
        "n1=Node(20)\n",
        "n.next=n1\n",
        "obj.head.next=n1\n",
        "n2=Node(30)\n",
        "n1.next=n2\n",
        "obj.display()\n",
        "\n"
      ],
      "metadata": {
        "id": "nRF5BwIq6nJk",
        "colab": {
          "base_uri": "https://localhost:8080/"
        },
        "outputId": "1a89522e-a1ec-4542-9ee8-cc24f51a24d5"
      },
      "execution_count": null,
      "outputs": [
        {
          "output_type": "stream",
          "name": "stdout",
          "text": [
            "10 ->20 ->30 ->"
          ]
        }
      ]
    },
    {
      "cell_type": "code",
      "source": [
        "class Node:\n",
        "  def __init__(self,data):\n",
        "    self.data=data\n",
        "    self.next=None\n",
        "class sll:\n",
        "  def __init__(self):\n",
        "    self.head=None\n",
        "  def display(self):\n",
        "    if self.head is None:\n",
        "      print(\"Linked list is empty\")\n",
        "    else:\n",
        "      temp=self.head\n",
        "      while temp.next!=None:\n",
        "        print(temp.data,\"->\",end=\"\")\n",
        "        temp=temp.next\n",
        "      print(temp.data)\n",
        "obj=sll()\n",
        "n=Node('W')\n",
        "obj.head=n\n",
        "n1=Node('I')\n",
        "n.next=n1\n",
        "obj.head.next=n1\n",
        "n2=Node('N')\n",
        "n1.next=n2\n",
        "n3=Node('N')\n",
        "n2.next=n3\n",
        "n4=Node('E')\n",
        "n3.next=n4\n",
        "n5=Node('R')\n",
        "n4.next=n5\n",
        "obj.display()\n",
        "  "
      ],
      "metadata": {
        "colab": {
          "base_uri": "https://localhost:8080/"
        },
        "id": "tB8o_3h4jqTx",
        "outputId": "fc3bc5cb-411b-4acc-8c8d-7a2879634bb7"
      },
      "execution_count": null,
      "outputs": [
        {
          "output_type": "stream",
          "name": "stdout",
          "text": [
            "W ->I ->N ->N ->E ->R\n"
          ]
        }
      ]
    },
    {
      "cell_type": "markdown",
      "source": [
        "Inserting at begining of linked list"
      ],
      "metadata": {
        "id": "ZMV6EC6yv59B"
      }
    },
    {
      "cell_type": "code",
      "source": [
        "class Node:\n",
        "  def __init__(self,data):\n",
        "    self.data=data\n",
        "    self.next=None\n",
        "class sll:\n",
        "  def __init__(self):\n",
        "    self.head=None\n",
        "  def insertatbegining(self,val):\n",
        "    self.val=val\n",
        "    newnode=Node(self.val)\n",
        "    newnode.next=self.head\n",
        "    self.head=newnode\n",
        "  def insertatend(self,data):\n",
        "    self.data=data\n",
        "    temp=self.head\n",
        "    newnode=Node(self.data)\n",
        "    while(temp.next!=None):\n",
        "      temp=temp.next\n",
        "    temp.next=newnode\n",
        "  def insertatposition(self,data,pos):\n",
        "    self.data=data\n",
        "    self.pos=pos\n",
        "    newnode=Node(self.data)\n",
        "    temp=self.head\n",
        "    for i in range(self.pos-1):\n",
        "      temp=temp.next\n",
        "    newnode.next=temp.next\n",
        "    temp.next=newnode\n",
        "  def display(self):\n",
        "    if self.head is None:\n",
        "      print(\"Linked list is empty\")\n",
        "    else:\n",
        "      temp=self.head\n",
        "      while temp.next!=None:\n",
        "        print(temp.data,\"->\",end=\"\")\n",
        "        temp=temp.next\n",
        "      print(temp.data)\n",
        "obj=sll()\n",
        "n=Node(10)\n",
        "obj.head=n\n",
        "n1=Node(20)\n",
        "n.next=n1\n",
        "obj.head.next=n1\n",
        "n2=Node(30)\n",
        "n1.next=n2\n",
        "obj.display()\n",
        "print(\"After insertion at begining\")\n",
        "obj.insertatbegining(11)\n",
        "obj.display()\n",
        "print(\"After inserting at the end\")\n",
        "obj.insertatend(25)\n",
        "obj.display()\n",
        "print(\"Inserting at particular position\")\n",
        "obj.insertatposition(45,2)\n",
        "\n",
        "\n",
        "obj.display()"
      ],
      "metadata": {
        "colab": {
          "base_uri": "https://localhost:8080/"
        },
        "id": "HnGR8fqnqSDA",
        "outputId": "2e36a797-8cea-4950-d6c9-bd55bed7c82e"
      },
      "execution_count": null,
      "outputs": [
        {
          "output_type": "stream",
          "name": "stdout",
          "text": [
            "10 ->20 ->30\n",
            "After insertion at begining\n",
            "11 ->10 ->20 ->30\n",
            "After inserting at the end\n",
            "11 ->10 ->20 ->30 ->25\n",
            "Inserting at particular position\n",
            "11 ->10 ->45 ->20 ->30 ->25\n"
          ]
        }
      ]
    },
    {
      "cell_type": "markdown",
      "source": [
        "Linked list creation using user input"
      ],
      "metadata": {
        "id": "3xjUKlB5CrWs"
      }
    },
    {
      "cell_type": "code",
      "source": [
        "class Node:\n",
        "  def __init__(self,data):\n",
        "    self.data=data\n",
        "    self.next=None\n",
        "class sll:\n",
        "  def __init__(self):\n",
        "    self.head=None\n",
        "  def insertatbegining(self,val):\n",
        "    self.val=val\n",
        "    newnode=Node(self.val)\n",
        "    newnode.next=self.head\n",
        "    self.head=newnode\n",
        "  def insertatend(self,data):\n",
        "    self.data=data\n",
        "    temp=self.head\n",
        "    newnode=Node(self.data)\n",
        "    while(temp.next!=None):\n",
        "      temp=temp.next\n",
        "    temp.next=newnode\n",
        "  def \n",
        "  \n",
        "  def display(self):\n",
        "    if self.head is None:\n",
        "      print(\"Linked list is empty\")\n",
        "    else:\n",
        "      temp=self.head\n",
        "      while temp.next!=None:\n",
        "        print(temp.data,\"->\",end=\"\")\n",
        "        temp=temp.next\n",
        "      print(temp.data)\n",
        "obj=sll()\n",
        "n=Node(10)\n",
        "obj.head=n\n",
        "n1=Node(20)\n",
        "n.next=n1\n",
        "obj.head.next=n1\n",
        "n2=Node(30)\n",
        "n1.next=n2\n",
        "obj.display()"
      ],
      "metadata": {
        "id": "9-qqJvuuwkS9"
      },
      "execution_count": null,
      "outputs": []
    }
  ]
}