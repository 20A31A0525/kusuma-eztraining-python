{
  "nbformat": 4,
  "nbformat_minor": 0,
  "metadata": {
    "colab": {
      "provenance": [],
      "authorship_tag": "ABX9TyNZBGUZrc4sxVIDVE1lKvPA",
      "include_colab_link": true
    },
    "kernelspec": {
      "name": "python3",
      "display_name": "Python 3"
    },
    "language_info": {
      "name": "python"
    }
  },
  "cells": [
    {
      "cell_type": "markdown",
      "metadata": {
        "id": "view-in-github",
        "colab_type": "text"
      },
      "source": [
        "<a href=\"https://colab.research.google.com/github/20A31A0525/kusuma-eztraining-python/blob/main/CRT_DAY_1.ipynb\" target=\"_parent\"><img src=\"https://colab.research.google.com/assets/colab-badge.svg\" alt=\"Open In Colab\"/></a>"
      ]
    },
    {
      "cell_type": "markdown",
      "source": [
        "**Day-1 Training**`\n",
        "1. Why Python?\n",
        "    *   Simple\n",
        "    *   Inbuilt Library functions\n",
        "    *   Robust\n",
        "    *   interpreted\n",
        "    *   Dynamic language\n",
        "    *   Easy to learn\n",
        "\n",
        "   Pyhon is famous in the market and it is called as language of future. It supports current technologies and upcoming technologies.\n",
        "\n",
        "2. Medium:\n",
        "      IDLE(Interpreted Development Language Environment), Jupyter Notebook, Anaconda, Thoni, VS COde (Visual Studio).\n",
        "\n",
        "3. In python no need to do compilation because it is interpreted language\n",
        "\n",
        "\n",
        "\n",
        "\n",
        "\n",
        "\n",
        "\n",
        "\n",
        "\n",
        "\n",
        "\n",
        "\n",
        "\n",
        "\n",
        "\n",
        "\n"
      ],
      "metadata": {
        "id": "JEdOEwefzDhL"
      }
    },
    {
      "cell_type": "code",
      "source": [
        "050+09      #Here we should not able to add numbers staring with zero they may be treated as octal "
      ],
      "metadata": {
        "id": "mVKeweOM_Qem"
      },
      "execution_count": null,
      "outputs": []
    },
    {
      "cell_type": "markdown",
      "source": [
        "**Writing program to translate into telugu**\n",
        "*   python, java uses unicode\n",
        "*   c uses ascii\n",
        "the program in python is called as \"script\"\n"
      ],
      "metadata": {
        "id": "eXYy-Hl1AF6f"
      }
    },
    {
      "cell_type": "markdown",
      "source": [
        "https://en.wiktionary.org/wiki/Appendix:Unicode/Telugu"
      ],
      "metadata": {
        "id": "5erxUxoGf2_d"
      }
    },
    {
      "cell_type": "code",
      "source": [
        "print(chr(3093)+chr(3137)+chr(3128)+chr(3137)+chr(3118)+' '+chr(3125)+chr(3134)+chr(3112)+chr(3114)+chr(3122)+chr(3149)+chr(3122)+chr(3135))"
      ],
      "metadata": {
        "colab": {
          "base_uri": "https://localhost:8080/"
        },
        "id": "Zri6WSyZAL9z",
        "outputId": "53201412-9ae0-4320-c1a0-3435f6660414"
      },
      "execution_count": null,
      "outputs": [
        {
          "output_type": "stream",
          "name": "stdout",
          "text": [
            "కుసుమ వానపల్లి\n"
          ]
        }
      ]
    },
    {
      "cell_type": "code",
      "source": [
        "print(chr(3088)+chr(3126)+chr(3149)+chr(3125)+chr(3120)+chr(3149)+chr(3119))"
      ],
      "metadata": {
        "colab": {
          "base_uri": "https://localhost:8080/"
        },
        "id": "EjXnGR-PJ6UK",
        "outputId": "11e0f6a4-1a76-4fa0-a0d2-00149924ed2b"
      },
      "execution_count": null,
      "outputs": [
        {
          "output_type": "stream",
          "name": "stdout",
          "text": [
            "ఐశ్వర్య\n"
          ]
        }
      ]
    },
    {
      "cell_type": "code",
      "source": [
        "print(chr(3128)+chr(3137)+chr(3110)+chr(3120)+chr(3149)+chr(3126)+chr(3112)+chr(3149))"
      ],
      "metadata": {
        "colab": {
          "base_uri": "https://localhost:8080/"
        },
        "id": "IUJUhBxofCi4",
        "outputId": "a28f4b09-3110-4492-90c7-9ab7c2d2afd3"
      },
      "execution_count": null,
      "outputs": [
        {
          "output_type": "stream",
          "name": "stdout",
          "text": [
            "సుదర్శన్\n"
          ]
        }
      ]
    },
    {
      "cell_type": "code",
      "source": [
        "print(chr(3118)+chr(3148)+chr(3112)+chr(3149)+chr(3119))"
      ],
      "metadata": {
        "colab": {
          "base_uri": "https://localhost:8080/"
        },
        "id": "C3lme8zjTed1",
        "outputId": "ffdeeed5-9aa2-4170-b449-1697de5db0ec"
      },
      "execution_count": null,
      "outputs": [
        {
          "output_type": "stream",
          "name": "stdout",
          "text": [
            "మౌన్య\n"
          ]
        }
      ]
    },
    {
      "cell_type": "markdown",
      "source": [
        "Assignment\n",
        "\n",
        "\n",
        "1.   Sudarshan\n",
        "2.   Mounya\n",
        "3.   What is the purpose of complex numbers\n",
        "\n"
      ],
      "metadata": {
        "id": "v3V7PpoNK2eJ"
      }
    },
    {
      "cell_type": "markdown",
      "source": [
        "**Data Types**\n",
        "\n",
        "1.   Primitive data types:\n",
        "\n",
        "     No need of declaration \n",
        "\n",
        "     Object oriented Language\n",
        "\n",
        "     Dynamic\n",
        "\n",
        "     **Numeric**\n",
        "\n",
        "     *   int\n",
        "     *   float\n",
        "     *   Complex\n",
        "\n",
        "     **Sequence**\n",
        "     *   String\n",
        "     *   List\n",
        "     *   Tuple\n",
        "     *   Dictionary\n",
        "     *   Set\n",
        "\n",
        "     **None**\n",
        "    \n",
        "     \n",
        "\n",
        "2.   Pyhton is dymanic where java is static since we need to declare the variables.\n",
        "\n",
        "\n",
        "\n"
      ],
      "metadata": {
        "id": "9M-ihuBaLBt6"
      }
    },
    {
      "cell_type": "code",
      "source": [
        "print(type(34))\n",
        "print(type(6.45))\n",
        "print(type(0+1j))\n",
        "#if you use any other variable other than j it will throw an error\n",
        "print(type(True))\n",
        "print(type(False))\n",
        "print(type('kusuma'))\n",
        "print(type([1,'2']))\n",
        "print(type((1,2,3)))\n",
        "print(type({1:2}))\n",
        "print(bool(1))"
      ],
      "metadata": {
        "colab": {
          "base_uri": "https://localhost:8080/"
        },
        "id": "9t3P_7YEOU17",
        "outputId": "4d0e4e72-cf88-4d87-d556-4d886d5ff79b"
      },
      "execution_count": null,
      "outputs": [
        {
          "output_type": "stream",
          "name": "stdout",
          "text": [
            "<class 'int'>\n",
            "<class 'float'>\n",
            "<class 'complex'>\n",
            "<class 'bool'>\n",
            "<class 'bool'>\n",
            "<class 'str'>\n",
            "<class 'list'>\n",
            "<class 'tuple'>\n",
            "<class 'dict'>\n",
            "True\n"
          ]
        }
      ]
    },
    {
      "cell_type": "code",
      "source": [
        "# valid variable names\n",
        "_x=0\n",
        "k1=0\n",
        "uy=8\n",
        "i0i=9"
      ],
      "metadata": {
        "id": "3s_leL8hNSZr"
      },
      "execution_count": null,
      "outputs": []
    },
    {
      "cell_type": "markdown",
      "source": [],
      "metadata": {
        "id": "Ztr1Oxch5a-9"
      }
    },
    {
      "cell_type": "code",
      "source": [
        "# Invalid variable names\n",
        "1x=0\n",
        "8=0\n",
        "+x=7"
      ],
      "metadata": {
        "id": "Dz4eHSJyNi1r"
      },
      "execution_count": null,
      "outputs": []
    },
    {
      "cell_type": "markdown",
      "source": [
        "**Type Conversion:**\n",
        "\n",
        "    Converting one data type to another data type"
      ],
      "metadata": {
        "id": "ei4EkxbkQKWr"
      }
    },
    {
      "cell_type": "code",
      "source": [
        "# Type of conversion\n",
        "print(int(3.124))\n"
      ],
      "metadata": {
        "colab": {
          "base_uri": "https://localhost:8080/"
        },
        "id": "3jyn9OLdNmpK",
        "outputId": "e79fab52-3a12-42a5-9e3f-c85d41c50b75"
      },
      "execution_count": null,
      "outputs": [
        {
          "output_type": "stream",
          "name": "stdout",
          "text": [
            "3\n"
          ]
        }
      ]
    },
    {
      "cell_type": "code",
      "source": [
        "#id=Memory location\n",
        "print(id(56))"
      ],
      "metadata": {
        "colab": {
          "base_uri": "https://localhost:8080/"
        },
        "id": "u-5uIPx8P8Dq",
        "outputId": "18e80b26-54a3-4ad0-99fb-05b0943cbf1a"
      },
      "execution_count": null,
      "outputs": [
        {
          "output_type": "stream",
          "name": "stdout",
          "text": [
            "9794848\n"
          ]
        }
      ]
    },
    {
      "cell_type": "code",
      "source": [
        "# is it belogs to particular data type or not \n",
        "print(isinstance(45,int))\n",
        "print(isinstance(25,float))\n",
        "print(isinstance('k',int))\n",
        "print(isinstance(90,complex))\n",
        "print(isinstance(90+0j,complex))"
      ],
      "metadata": {
        "colab": {
          "base_uri": "https://localhost:8080/"
        },
        "id": "-TqD7h43Qg8L",
        "outputId": "ec05cc3c-82c9-4d82-be06-b4f6d3c797e8"
      },
      "execution_count": null,
      "outputs": [
        {
          "output_type": "stream",
          "name": "stdout",
          "text": [
            "True\n",
            "False\n",
            "False\n",
            "False\n",
            "True\n"
          ]
        }
      ]
    },
    {
      "cell_type": "markdown",
      "source": [
        "**Operators Precedence and Assosicative law**\n",
        "\n",
        "Every operator has its own priority we can use \"BODMAS\" rule\n",
        "If there is same priority operators present in the expression evalution happens from left to right except one operator that is \"Assignment Operator\" which evaluates from right to left.\n",
        "\n",
        "\n",
        "\n",
        "\n"
      ],
      "metadata": {
        "id": "y3PhaDgsVEce"
      }
    },
    {
      "cell_type": "code",
      "source": [
        "a=9\n",
        "#print(\"the value is :\"+a)--> can only add strings or integers\n",
        "print(\"the value is :\" + str(a))\n",
        "print(\"the value is :\",a)"
      ],
      "metadata": {
        "id": "EtQHPEkfQ4ZL",
        "colab": {
          "base_uri": "https://localhost:8080/"
        },
        "outputId": "b6b1c192-fe39-47fb-c49e-7396cec21373"
      },
      "execution_count": null,
      "outputs": [
        {
          "output_type": "stream",
          "name": "stdout",
          "text": [
            "the value is :9\n",
            "the value is : 9\n"
          ]
        }
      ]
    },
    {
      "cell_type": "code",
      "source": [
        "n=input(\"enter\")\n",
        "print(n)\n",
        "print(type(n))"
      ],
      "metadata": {
        "colab": {
          "base_uri": "https://localhost:8080/"
        },
        "id": "-mpGDuFOnA0x",
        "outputId": "30d5d356-271f-4d67-8152-0cc8056994b5"
      },
      "execution_count": null,
      "outputs": [
        {
          "output_type": "stream",
          "name": "stdout",
          "text": [
            "enter5\n",
            "5\n",
            "<class 'str'>\n"
          ]
        }
      ]
    },
    {
      "cell_type": "code",
      "source": [
        "n=int(input())\n",
        "print(n)\n",
        "print(type(n))"
      ],
      "metadata": {
        "colab": {
          "base_uri": "https://localhost:8080/"
        },
        "id": "OES5XQNAobCo",
        "outputId": "8c290784-c48f-4662-aa23-eb43cdf2ea97"
      },
      "execution_count": null,
      "outputs": [
        {
          "output_type": "stream",
          "name": "stdout",
          "text": [
            "5\n",
            "5\n",
            "<class 'int'>\n"
          ]
        }
      ]
    },
    {
      "cell_type": "markdown",
      "source": [
        "Take 3 integer numbers,3 float numbers,2 strings and one complex number as inputs and print the same on the screen\n",
        "use formatted output"
      ],
      "metadata": {
        "id": "Jmra80BspJWJ"
      }
    },
    {
      "cell_type": "code",
      "source": [
        "n1=int(input(\"Enter first integer:\"))\n",
        "n2=int(input(\"Enter second integer:\"))\n",
        "n3=int(input(\"Enter third integer:\"))\n",
        "print()\n",
        "f1=float(input(\"Enter first float number:\"))\n",
        "f2=float(input(\"Enter second float number:\"))\n",
        "f3=float(input(\"Enter third float number:\"))\n",
        "print()\n",
        "s1=input(\"Enter first string:\")\n",
        "s2=input(\"Enter second string:\")\n",
        "print()\n",
        "c=complex(input(\"Enter a complex number:\"))\n",
        "print()\n",
        "print(\"Output:\")\n",
        "print('-------')\n",
        "print()\n",
        "print(\"First Integer is:\",n1)\n",
        "print(\"Second Integer is:\",n2)\n",
        "print(\"Third Integer is:\",n3)\n",
        "print()\n",
        "print(\"First Float number is:\",f1)\n",
        "print(\"Second Float number is:\",f2)\n",
        "print(\"Third Float number is:\",f3)\n",
        "print()\n",
        "print(\"First String is:\",s1)\n",
        "print(\"Second String is:\",s2)\n",
        "print()\n",
        "print(\"Complex Number is\",c)"
      ],
      "metadata": {
        "colab": {
          "base_uri": "https://localhost:8080/"
        },
        "id": "IWO5gchMo3eZ",
        "outputId": "a1bac053-0009-4027-ee42-49a798a93c8d"
      },
      "execution_count": null,
      "outputs": [
        {
          "output_type": "stream",
          "name": "stdout",
          "text": [
            "Enter first integer:5\n",
            "Enter second integer:10\n",
            "Enter third integer:15\n",
            "\n",
            "Enter first float number:2.34\n",
            "Enter second float number:3.45\n",
            "Enter third float number:4.56\n",
            "\n",
            "Enter first string:kusuma\n",
            "Enter second string:raseeda\n",
            "\n",
            "Enter a complex number:2+3j\n",
            "\n",
            "Output:\n",
            "-------\n",
            "\n",
            "First Integer is: 5\n",
            "Second Integer is: 10\n",
            "Third Integer is: 15\n",
            "\n",
            "First Float number is: 2.34\n",
            "Second Float number is: 3.45\n",
            "Third Float number is: 4.56\n",
            "\n",
            "First String is: kusuma\n",
            "Second String is: raseeda\n",
            "\n",
            "Complex Number is (2+3j)\n"
          ]
        }
      ]
    },
    {
      "cell_type": "markdown",
      "source": [
        "Guido van Rosuum (inventor of python)\n",
        "\n",
        "Name : BBC Comedy sereies\n",
        "\n",
        "\n",
        "\n"
      ],
      "metadata": {
        "id": "DNPv5Hevw3hM"
      }
    },
    {
      "cell_type": "markdown",
      "source": [
        "Question: Kumar is having 75 kg candy and half of it he gives to his friend sam, sam return half to kumar in its half .how much candy kumar has?"
      ],
      "metadata": {
        "id": "lNtxkpbFyXDl"
      }
    },
    {
      "cell_type": "code",
      "source": [
        "kumar=int(input(\" enter how much candy kumar buys\"))\n",
        "sam=kumar/2\n",
        "kumar=kumar/2\n",
        "t=sam/2\n",
        "kumar=kumar+t\n",
        "print(kumar)"
      ],
      "metadata": {
        "colab": {
          "base_uri": "https://localhost:8080/"
        },
        "id": "tloKl3R-ywIb",
        "outputId": "7183e16d-9fd7-461d-d8b4-617fdb7b5b07"
      },
      "execution_count": null,
      "outputs": [
        {
          "output_type": "stream",
          "name": "stdout",
          "text": [
            " enter how much candy kumar buys75\n",
            "56.25\n"
          ]
        }
      ]
    },
    {
      "cell_type": "markdown",
      "source": [
        "Question: with 3 times of 36.32 you have to add 56.19 and subtract 10 from it print final result"
      ],
      "metadata": {
        "id": "6tb_nU7MzQl8"
      }
    },
    {
      "cell_type": "code",
      "source": [
        "final=36.32\n",
        "final=3*final\n",
        "final=final+56.19\n",
        "final=final-10\n",
        "print(\"Final result=\",final)\n"
      ],
      "metadata": {
        "colab": {
          "base_uri": "https://localhost:8080/"
        },
        "id": "RPXxigo6zH16",
        "outputId": "28019937-3674-4efb-b1e6-ca03dee5fbc9"
      },
      "execution_count": null,
      "outputs": [
        {
          "output_type": "stream",
          "name": "stdout",
          "text": [
            "Final result= 155.15\n"
          ]
        }
      ]
    },
    {
      "cell_type": "markdown",
      "source": [
        "Question: Multiply one postive number with one negitive folating point number and findout the result"
      ],
      "metadata": {
        "id": "_9T4hSdM0Kws"
      }
    },
    {
      "cell_type": "code",
      "source": [
        "p=int(input(\"enter a positive number:\"))\n",
        "nf=float(input(\"Enter a float number\"))\n",
        "nf=-nf\n",
        "print(p*nf)"
      ],
      "metadata": {
        "colab": {
          "base_uri": "https://localhost:8080/"
        },
        "id": "xUWy5hKez_LJ",
        "outputId": "e8e9dae3-2e0e-44e2-d167-3a422bcb9ff2"
      },
      "execution_count": null,
      "outputs": [
        {
          "output_type": "stream",
          "name": "stdout",
          "text": [
            "enter a positive number:10\n",
            "Enter a float number2.45\n",
            "-24.5\n"
          ]
        }
      ]
    },
    {
      "cell_type": "markdown",
      "source": [
        "Question: Do any simple division sample program using floating point numbers"
      ],
      "metadata": {
        "id": "8oSNKOJB00Gq"
      }
    },
    {
      "cell_type": "code",
      "source": [
        "f1=float(input(\"Enter a floating numeration:\"))\n",
        "f2=float(input(\"Enter a floating denominator:\"))\n",
        "print(f1/f2)"
      ],
      "metadata": {
        "colab": {
          "base_uri": "https://localhost:8080/"
        },
        "id": "Uh-ZAyZM0w2Z",
        "outputId": "85c2b391-f12e-4a2b-fb37-f3fd3ad6ac1d"
      },
      "execution_count": null,
      "outputs": [
        {
          "output_type": "stream",
          "name": "stdout",
          "text": [
            "Enter a floating numeration:12.3\n",
            "Enter a floating denominator:2.3\n",
            "5.347826086956522\n"
          ]
        }
      ]
    },
    {
      "cell_type": "markdown",
      "source": [
        "**Operators:**\n",
        "1.   Arithmetic Opereators\n",
        "    *   Addition\n",
        "    *   Subtraction\n",
        "    *   Multiplication\n",
        "    *   Division\n",
        "    *   Floar division\n",
        "2.   Relational Operators or Comparision Operator\n",
        "    *  Less than\n",
        "    *  Lesthan or equal to\n",
        "    *  Greater than\n",
        "    *  Greater than or equal to\n",
        "    *  ==\n",
        "    *  !=\n",
        "3.   Logical Operator\n",
        "    * and  \n",
        "    * or \n",
        "    * not\n",
        "4.   Bitwise Operatior\n",
        "    \n",
        "    \n",
        "    \n",
        "\n",
        "\n",
        "\n",
        "\n",
        "\n",
        "\n",
        "\n"
      ],
      "metadata": {
        "id": "RnZXaL5E3LkN"
      }
    },
    {
      "cell_type": "code",
      "source": [
        "#Arthimetic\n",
        "print(4+5)\n",
        "print(4-5)\n",
        "print(4*5)\n",
        "print(5/4)\n",
        "print(5//4)\n",
        "print(5%4)\n",
        "#Relational\n",
        "print(10!=2)\n",
        "print(10==10)\n",
        "print(10>4)\n",
        "print(10<4)\n",
        "print(10>=4)\n",
        "print(10<=4)\n",
        "#Logical \n",
        "print(10>1 and 3<10)\n",
        "print(10>1 and 3>10)\n",
        "print(10>1 or 3>10)\n",
        "print(not(10==10))\n",
        "print(not(10!=10))"
      ],
      "metadata": {
        "colab": {
          "base_uri": "https://localhost:8080/"
        },
        "id": "puVzAno54pwv",
        "outputId": "fff8bf73-55fa-4f7b-a0b8-8270a43298df"
      },
      "execution_count": null,
      "outputs": [
        {
          "output_type": "stream",
          "name": "stdout",
          "text": [
            "9\n",
            "-1\n",
            "20\n",
            "1.25\n",
            "1\n",
            "1\n",
            "True\n",
            "True\n",
            "True\n",
            "False\n",
            "True\n",
            "False\n",
            "True\n",
            "False\n",
            "True\n",
            "False\n",
            "True\n"
          ]
        }
      ]
    },
    {
      "cell_type": "code",
      "source": [
        "a,b=input(\"enter\").split()\n",
        "print(a,b)"
      ],
      "metadata": {
        "colab": {
          "base_uri": "https://localhost:8080/"
        },
        "id": "fe4K0k-04yIM",
        "outputId": "07803040-1488-459d-cdb1-aa44c1ba8955"
      },
      "execution_count": null,
      "outputs": [
        {
          "output_type": "stream",
          "name": "stdout",
          "text": [
            "enter1 2\n",
            "1 2\n"
          ]
        }
      ]
    },
    {
      "cell_type": "markdown",
      "source": [
        "Multiple inputs in single line"
      ],
      "metadata": {
        "id": "fmM9vsAx-xwX"
      }
    },
    {
      "cell_type": "code",
      "source": [
        "a,b=int(input(\"enter\")),int(input(\"enter\"))\n",
        "a,b=input('enter').split()\n",
        "a,b=input().split(',')\n",
        "a,b=map(int,(input()).split('.'))"
      ],
      "metadata": {
        "colab": {
          "base_uri": "https://localhost:8080/"
        },
        "id": "3wHJNLt49Fde",
        "outputId": "322b91d0-1124-4f28-9352-3fe65aa8885f"
      },
      "execution_count": null,
      "outputs": [
        {
          "name": "stdout",
          "output_type": "stream",
          "text": [
            "enter1\n",
            "enter2\n",
            "enter1 2\n",
            "1,2\n",
            "1.3\n"
          ]
        }
      ]
    },
    {
      "cell_type": "markdown",
      "source": [
        "Qusetion: swap two numbers using temp"
      ],
      "metadata": {
        "id": "6jFKwSjgDKHQ"
      }
    },
    {
      "cell_type": "code",
      "source": [
        "n1,n2=map(int,input().split())\n",
        "temp=n1\n",
        "n1=n2\n",
        "n2=temp\n",
        "print(n1)\n",
        "print(n2)\n"
      ],
      "metadata": {
        "colab": {
          "base_uri": "https://localhost:8080/"
        },
        "id": "Ceqg79KN_L4u",
        "outputId": "bab3f688-788f-4854-cb6d-58b38c169aef"
      },
      "execution_count": null,
      "outputs": [
        {
          "output_type": "stream",
          "name": "stdout",
          "text": [
            "10 20\n",
            "20\n",
            "10\n"
          ]
        }
      ]
    },
    {
      "cell_type": "markdown",
      "source": [
        "Question:Swap two numbers without using temp"
      ],
      "metadata": {
        "id": "vY0FT6RqDiJZ"
      }
    },
    {
      "cell_type": "code",
      "source": [
        "n1=int(input())\n",
        "n2=int(input())\n",
        "total=n1+n2\n",
        "n1=total-n1\n",
        "n2=total-n2\n",
        "print(n1)\n",
        "print(n2)\n",
        "#or\n",
        "#a,b=b,a\n",
        "\n"
      ],
      "metadata": {
        "colab": {
          "base_uri": "https://localhost:8080/"
        },
        "id": "spMSo3ygDoe5",
        "outputId": "0b11dfb0-a66b-4027-a9a3-db1ac0dd2102"
      },
      "execution_count": null,
      "outputs": [
        {
          "output_type": "stream",
          "name": "stdout",
          "text": [
            "10\n",
            "20\n",
            "20\n",
            "10\n"
          ]
        }
      ]
    },
    {
      "cell_type": "markdown",
      "source": [
        "Question:Find area of rectangle after getting length and breadth of a rectangle2"
      ],
      "metadata": {
        "id": "_E31sOajDpAo"
      }
    },
    {
      "cell_type": "code",
      "source": [
        "length=int(input())\n",
        "breadth=int(input())\n",
        "print(\"area of rectangle=\",length*breadth)"
      ],
      "metadata": {
        "colab": {
          "base_uri": "https://localhost:8080/"
        },
        "id": "LTh26PfND0OS",
        "outputId": "ee9a57c3-fff4-4c37-ba07-6ebd6680f5f7"
      },
      "execution_count": null,
      "outputs": [
        {
          "output_type": "stream",
          "name": "stdout",
          "text": [
            "10\n",
            "20\n",
            "area of rectangle= 200\n"
          ]
        }
      ]
    },
    {
      "cell_type": "markdown",
      "source": [
        "Question: Find area of perimeter of a rectangle"
      ],
      "metadata": {
        "id": "T8e-28b6EC9Q"
      }
    },
    {
      "cell_type": "code",
      "source": [
        "length=int(input())\n",
        "breadth=int(input())\n",
        "print(\"Perimeter of rectangle\",2*(length+breadth))"
      ],
      "metadata": {
        "colab": {
          "base_uri": "https://localhost:8080/"
        },
        "id": "cRckKgTnD_7v",
        "outputId": "fe48162a-342a-4a0b-db29-2ad71c1cfa74"
      },
      "execution_count": null,
      "outputs": [
        {
          "output_type": "stream",
          "name": "stdout",
          "text": [
            "10\n",
            "20\n",
            "Perimeter of rectangle 60\n"
          ]
        }
      ]
    }
  ]
}