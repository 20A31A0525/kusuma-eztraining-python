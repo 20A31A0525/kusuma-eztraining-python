{
  "nbformat": 4,
  "nbformat_minor": 0,
  "metadata": {
    "colab": {
      "provenance": [],
      "authorship_tag": "ABX9TyObm/MCQhW2iG+yS754VX1F",
      "include_colab_link": true
    },
    "kernelspec": {
      "name": "python3",
      "display_name": "Python 3"
    },
    "language_info": {
      "name": "python"
    }
  },
  "cells": [
    {
      "cell_type": "markdown",
      "metadata": {
        "id": "view-in-github",
        "colab_type": "text"
      },
      "source": [
        "<a href=\"https://colab.research.google.com/github/20A31A0525/kusuma-eztraining-python/blob/main/CRT_DAY_3.ipynb\" target=\"_parent\"><img src=\"https://colab.research.google.com/assets/colab-badge.svg\" alt=\"Open In Colab\"/></a>"
      ]
    },
    {
      "cell_type": "markdown",
      "source": [
        "**List**\n",
        "\n",
        "1. Mutable\n",
        "2. Indexing\n",
        "3. slicing\n",
        "4. square brackets"
      ],
      "metadata": {
        "id": "SO8QTAyWRjl3"
      }
    },
    {
      "cell_type": "code",
      "source": [
        "l=[1,2,7.4,\"Sam\"]\n",
        "print(l[0])\n",
        "print(l[-1])\n",
        "print(l[0:3])\n"
      ],
      "metadata": {
        "colab": {
          "base_uri": "https://localhost:8080/"
        },
        "id": "ByDj5Yt3UiZt",
        "outputId": "1d1ded67-d809-4d1c-df23-c12f01f24629"
      },
      "execution_count": null,
      "outputs": [
        {
          "output_type": "stream",
          "name": "stdout",
          "text": [
            "1\n",
            "Sam\n",
            "[1, 2, 7.4]\n"
          ]
        }
      ]
    },
    {
      "cell_type": "markdown",
      "source": [
        "**opetations on list**\n",
        "\n",
        "1. append\n",
        "2. extend\n",
        "3. insert\n",
        "4. remove\n",
        "5. pop\n",
        "6. clear\n",
        "7. index\n",
        "8. count\n",
        "9. sort\n",
        "10. reverse\n",
        "11. copy\n"
      ],
      "metadata": {
        "id": "0YQXJ_BXXx6C"
      }
    },
    {
      "cell_type": "code",
      "source": [
        "l=[1,2,1,2,3,4,5]\n",
        "l.append(11)\n",
        "print(l)\n",
        "l.extend([12,13,43,56])\n",
        "print(l)\n",
        "l.insert(0,7)\n",
        "print(l)\n",
        "l.remove(1)\n",
        "print(l)\n",
        "l.pop(-1)\n",
        "print(l)\n",
        "l.clear()\n",
        "print(l)\n",
        "l=[1,2,1,2,3,4,5]\n",
        "print(l.index(5))\n",
        "print(l.count(1))\n",
        "l.sort()\n",
        "print(l)\n",
        "l.reverse()\n",
        "print(l)\n",
        "k=l.copy()\n",
        "print(k)\n",
        "l\n"
      ],
      "metadata": {
        "colab": {
          "base_uri": "https://localhost:8080/"
        },
        "id": "uD_U3G-5UmI1",
        "outputId": "26c8a3d0-f69e-4001-b232-e6b2fb4963d8"
      },
      "execution_count": null,
      "outputs": [
        {
          "output_type": "stream",
          "name": "stdout",
          "text": [
            "[1, 2, 1, 2, 3, 4, 5, 11]\n",
            "[1, 2, 1, 2, 3, 4, 5, 11, 12, 13, 43, 56]\n",
            "[7, 1, 2, 1, 2, 3, 4, 5, 11, 12, 13, 43, 56]\n",
            "[7, 2, 1, 2, 3, 4, 5, 11, 12, 13, 43, 56]\n",
            "[7, 2, 1, 2, 3, 4, 5, 11, 12, 13, 43]\n",
            "[]\n",
            "6\n",
            "2\n",
            "[1, 1, 2, 2, 3, 4, 5]\n",
            "[5, 4, 3, 2, 2, 1, 1]\n",
            "[5, 4, 3, 2, 2, 1, 1]\n",
            "[5, 4, 3, 2, 2, 1, 1]\n"
          ]
        }
      ]
    },
    {
      "cell_type": "markdown",
      "source": [
        "Create list with 10 items print the elements and print one by one"
      ],
      "metadata": {
        "id": "QBVzF11Gf6wh"
      }
    },
    {
      "cell_type": "code",
      "source": [
        "l=[1,2,3,4,5,6,7,8,9,10]\n",
        "for i in l:\n",
        "  print(i)"
      ],
      "metadata": {
        "colab": {
          "base_uri": "https://localhost:8080/"
        },
        "id": "N_JvDBDLYdm5",
        "outputId": "dc157248-a6b5-466b-f8f8-1a4154ed9b11"
      },
      "execution_count": null,
      "outputs": [
        {
          "output_type": "stream",
          "name": "stdout",
          "text": [
            "1\n",
            "2\n",
            "3\n",
            "4\n",
            "5\n",
            "6\n",
            "7\n",
            "8\n",
            "9\n",
            "10\n"
          ]
        }
      ]
    },
    {
      "cell_type": "markdown",
      "source": [
        "Creat a list with five float numbers find and display sum and average of list"
      ],
      "metadata": {
        "id": "IDB_Ze7IgEDV"
      }
    },
    {
      "cell_type": "code",
      "source": [
        "l=[1.1,2.2,3.3,4.4,5.5]\n",
        "print(\"sum=\",sum(l))\n",
        "print(\"average=\",sum(l)/len(l))"
      ],
      "metadata": {
        "colab": {
          "base_uri": "https://localhost:8080/"
        },
        "id": "myJIUptBgMlK",
        "outputId": "9fbe354d-d3d4-46ed-e14d-a45fc121e0c9"
      },
      "execution_count": null,
      "outputs": [
        {
          "output_type": "stream",
          "name": "stdout",
          "text": [
            "sum= 16.5\n",
            "average= 3.3\n"
          ]
        }
      ]
    },
    {
      "cell_type": "markdown",
      "source": [
        "After creating a list with 6 elements from the user extract only even numbers and print"
      ],
      "metadata": {
        "id": "h144ua3JgNCm"
      }
    },
    {
      "cell_type": "code",
      "source": [
        "l=list(map(int,input().split()))[:6]\n",
        "for i in range(len(l)):\n",
        "  if l[i]%2==0:\n",
        "    print(l[i])"
      ],
      "metadata": {
        "colab": {
          "base_uri": "https://localhost:8080/"
        },
        "id": "4uTeHfEhgWUt",
        "outputId": "f1e958f6-92aa-4a1f-c3a9-050170334b68"
      },
      "execution_count": null,
      "outputs": [
        {
          "output_type": "stream",
          "name": "stdout",
          "text": [
            "1 2 3 4 5 6 7\n",
            "2\n",
            "4\n",
            "6\n"
          ]
        }
      ]
    },
    {
      "cell_type": "markdown",
      "source": [
        "print neon numbers"
      ],
      "metadata": {
        "id": "D-FdGDEKjpGp"
      }
    },
    {
      "cell_type": "code",
      "source": [
        "n=int(input(\"enter a number:\"))\n",
        "sq=n*n\n",
        "c=0\n",
        "while(sq>0):\n",
        "  c=c+sq%10\n",
        "  sq=sq//10\n",
        "if c==n:\n",
        "  print(\"Yes it is neon number\")\n",
        "else:\n",
        "  print(\"It is not a neon number\")\n"
      ],
      "metadata": {
        "colab": {
          "base_uri": "https://localhost:8080/"
        },
        "id": "dQMxdB4chExB",
        "outputId": "4d8d865e-2333-4457-a385-e693f1a5f8eb"
      },
      "execution_count": null,
      "outputs": [
        {
          "output_type": "stream",
          "name": "stdout",
          "text": [
            "enter a number:1\n",
            "Yes it is neon number\n"
          ]
        }
      ]
    },
    {
      "cell_type": "code",
      "source": [
        "\n",
        "\n",
        "for i in range(1,500000):\n",
        "  sq=i*i\n",
        "  c=0 \n",
        "  while(sq>0):\n",
        "    c=c+sq%10\n",
        "    sq=sq//10\n",
        "  if c==i:\n",
        "    print(i)\n",
        "\n"
      ],
      "metadata": {
        "colab": {
          "base_uri": "https://localhost:8080/"
        },
        "id": "Uwkl405SkKrj",
        "outputId": "a7c7e99a-485a-408e-9a15-caf2541b562b"
      },
      "execution_count": null,
      "outputs": [
        {
          "output_type": "stream",
          "name": "stdout",
          "text": [
            "1\n",
            "9\n"
          ]
        }
      ]
    },
    {
      "cell_type": "code",
      "source": [
        "\n",
        "import math\n",
        "n=153\n",
        "\n",
        "l=len(str(n))\n",
        "x=n\n",
        "c=0\n",
        "while(n>0):\n",
        "  p=n%10\n",
        "  c=c+pow(p,l)\n",
        "  n=n//10\n",
        "if c==x:\n",
        "  print(\"Yes\")\n",
        "else:\n",
        "  print(\"No\")"
      ],
      "metadata": {
        "id": "c6CMksPzpB70",
        "colab": {
          "base_uri": "https://localhost:8080/"
        },
        "outputId": "038cf472-baa7-41f3-f775-eecd23260cdc"
      },
      "execution_count": null,
      "outputs": [
        {
          "output_type": "stream",
          "name": "stdout",
          "text": [
            "Yes\n"
          ]
        }
      ]
    },
    {
      "cell_type": "code",
      "source": [
        "l=list(map(int,input(\"enter numbers\").split()))\n",
        "c=1\n",
        "for i in range(len(l)):\n",
        "  c=c*l[i]\n",
        "if c < 750:\n",
        "  print(\"product is:\",c)\n",
        "else:\n",
        "  print(\"sum is:\",sum(l))"
      ],
      "metadata": {
        "colab": {
          "base_uri": "https://localhost:8080/"
        },
        "id": "guIqgyi57Lsb",
        "outputId": "8ead9bbd-efe8-4409-b63b-88b27c47be0e"
      },
      "execution_count": null,
      "outputs": [
        {
          "output_type": "stream",
          "name": "stdout",
          "text": [
            "enter numbers1 12 35 56\n",
            "sum is: 104\n"
          ]
        }
      ]
    },
    {
      "cell_type": "markdown",
      "source": [
        "List comprehesion"
      ],
      "metadata": {
        "id": "jvGyXSClFaLv"
      }
    },
    {
      "cell_type": "code",
      "source": [
        "l=[e for e in 'Good afternoon']\n",
        "print(l)"
      ],
      "metadata": {
        "colab": {
          "base_uri": "https://localhost:8080/"
        },
        "id": "H9lqiZXUFfyG",
        "outputId": "8fbadffe-beb2-4cd7-d6d5-cc214bee624c"
      },
      "execution_count": null,
      "outputs": [
        {
          "output_type": "stream",
          "name": "stdout",
          "text": [
            "['G', 'o', 'o', 'd', ' ', 'a', 'f', 't', 'e', 'r', 'n', 'o', 'o', 'n']\n"
          ]
        }
      ]
    },
    {
      "cell_type": "code",
      "source": [
        "l=[2**x for x in range(2,6)]\n",
        "print(l)"
      ],
      "metadata": {
        "colab": {
          "base_uri": "https://localhost:8080/"
        },
        "id": "NvQQqmvUFsud",
        "outputId": "7c4e3289-5ec5-4ec5-b12e-03fc5f9436f4"
      },
      "execution_count": null,
      "outputs": [
        {
          "output_type": "stream",
          "name": "stdout",
          "text": [
            "[4, 8, 16, 32]\n"
          ]
        }
      ]
    },
    {
      "cell_type": "code",
      "source": [
        "l=[x for x in range(1,7) if x<5]\n",
        "print(l)"
      ],
      "metadata": {
        "colab": {
          "base_uri": "https://localhost:8080/"
        },
        "id": "aK72w_QFF0P4",
        "outputId": "ef0cda95-6bae-404b-9fd7-83460f0bba4c"
      },
      "execution_count": null,
      "outputs": [
        {
          "output_type": "stream",
          "name": "stdout",
          "text": [
            "[1, 2, 3, 4]\n"
          ]
        }
      ]
    },
    {
      "cell_type": "code",
      "source": [
        "l=[x for x in range(10,100,2)]\n",
        "print(l)"
      ],
      "metadata": {
        "colab": {
          "base_uri": "https://localhost:8080/"
        },
        "id": "n0_Qq5DeIS1b",
        "outputId": "f73e655e-6d27-4f60-b0ba-bfb5e6ac9096"
      },
      "execution_count": null,
      "outputs": [
        {
          "output_type": "stream",
          "name": "stdout",
          "text": [
            "[10, 12, 14, 16, 18, 20, 22, 24, 26, 28, 30, 32, 34, 36, 38, 40, 42, 44, 46, 48, 50, 52, 54, 56, 58, 60, 62, 64, 66, 68, 70, 72, 74, 76, 78, 80, 82, 84, 86, 88, 90, 92, 94, 96, 98]\n"
          ]
        }
      ]
    },
    {
      "cell_type": "markdown",
      "source": [
        "Set operations\n",
        "\n",
        "1. add()\n",
        "2. update()\n",
        "3. discard()\n",
        "4. remove()-if element not present it gives an error so at that better to go with discard\n",
        "5. union() s1|s2\n",
        "6. intersection s1&s2\n",
        "7. difference s1-s2'=\n",
        "8. issuperset\n",
        "9. symmetric_difference or ^"
      ],
      "metadata": {
        "id": "k3o4P_vDJmPK"
      }
    },
    {
      "cell_type": "code",
      "source": [
        "s={1,2,3,4,5,6}\n",
        "print(s)\n",
        "s.add(8)\n",
        "print(s)\n",
        "s.update([10,20])\n",
        "print(s)\n",
        "s.discard(2)\n",
        "print(s)\n",
        "s.remove(3)\n",
        "print(s)"
      ],
      "metadata": {
        "colab": {
          "base_uri": "https://localhost:8080/"
        },
        "id": "jEWQm2f3LuTU",
        "outputId": "0c1f5c4e-9a25-4aaa-cc95-bdf6c393be74"
      },
      "execution_count": null,
      "outputs": [
        {
          "output_type": "stream",
          "name": "stdout",
          "text": [
            "{1, 2, 3, 4, 5, 6}\n",
            "{1, 2, 3, 4, 5, 6, 8}\n",
            "{1, 2, 3, 4, 5, 6, 8, 10, 20}\n",
            "{1, 3, 4, 5, 6, 8, 10, 20}\n",
            "{1, 4, 5, 6, 8, 10, 20}\n"
          ]
        }
      ]
    },
    {
      "cell_type": "code",
      "source": [
        "s={1,2,3,4}\n",
        "s.remove(5)\n",
        "print(s)"
      ],
      "metadata": {
        "colab": {
          "base_uri": "https://localhost:8080/",
          "height": 200
        },
        "id": "d2DByg5pNDbv",
        "outputId": "56867df9-f4a5-4612-8ea6-fe143ad9d8c8"
      },
      "execution_count": null,
      "outputs": [
        {
          "output_type": "error",
          "ename": "KeyError",
          "evalue": "ignored",
          "traceback": [
            "\u001b[0;31m---------------------------------------------------------------------------\u001b[0m",
            "\u001b[0;31mKeyError\u001b[0m                                  Traceback (most recent call last)",
            "\u001b[0;32m<ipython-input-16-1c42c762df85>\u001b[0m in \u001b[0;36m<module>\u001b[0;34m\u001b[0m\n\u001b[1;32m      1\u001b[0m \u001b[0ms\u001b[0m\u001b[0;34m=\u001b[0m\u001b[0;34m{\u001b[0m\u001b[0;36m1\u001b[0m\u001b[0;34m,\u001b[0m\u001b[0;36m2\u001b[0m\u001b[0;34m,\u001b[0m\u001b[0;36m3\u001b[0m\u001b[0;34m,\u001b[0m\u001b[0;36m4\u001b[0m\u001b[0;34m}\u001b[0m\u001b[0;34m\u001b[0m\u001b[0;34m\u001b[0m\u001b[0m\n\u001b[0;32m----> 2\u001b[0;31m \u001b[0ms\u001b[0m\u001b[0;34m.\u001b[0m\u001b[0mremove\u001b[0m\u001b[0;34m(\u001b[0m\u001b[0;36m5\u001b[0m\u001b[0;34m)\u001b[0m\u001b[0;34m\u001b[0m\u001b[0;34m\u001b[0m\u001b[0m\n\u001b[0m\u001b[1;32m      3\u001b[0m \u001b[0mprint\u001b[0m\u001b[0;34m(\u001b[0m\u001b[0ms\u001b[0m\u001b[0;34m)\u001b[0m\u001b[0;34m\u001b[0m\u001b[0;34m\u001b[0m\u001b[0m\n",
            "\u001b[0;31mKeyError\u001b[0m: 5"
          ]
        }
      ]
    },
    {
      "cell_type": "code",
      "source": [
        "s1={1,2,3,4}\n",
        "s2={1,2,3,4,5,6}\n",
        "print(\"union:\",s1|s2)\n",
        "print(\"intersection:\",s1&s2)\n",
        "print(\"difference\",s1-s2)\n",
        "print(\"differnce\",s2-s1)"
      ],
      "metadata": {
        "colab": {
          "base_uri": "https://localhost:8080/"
        },
        "id": "XYA-16XdMBCn",
        "outputId": "61a461ff-e0be-4a13-9399-2e0d3d9fbcae"
      },
      "execution_count": null,
      "outputs": [
        {
          "output_type": "stream",
          "name": "stdout",
          "text": [
            "union: {1, 2, 3, 4, 5, 6}\n",
            "intersection: {1, 2, 3, 4}\n",
            "difference set()\n",
            "differnce {5, 6}\n"
          ]
        }
      ]
    },
    {
      "cell_type": "code",
      "source": [
        "s1={1,2,3}\n",
        "s2={1,2,3,4}\n",
        "print(s2.issuperset(s))"
      ],
      "metadata": {
        "colab": {
          "base_uri": "https://localhost:8080/"
        },
        "id": "mpTccIR9Mzso",
        "outputId": "cb747f4a-6c0c-474b-af3d-2bdc794d5dc3"
      },
      "execution_count": null,
      "outputs": [
        {
          "output_type": "stream",
          "name": "stdout",
          "text": [
            "True\n"
          ]
        }
      ]
    },
    {
      "cell_type": "code",
      "source": [
        "s1={1,2,3}\n",
        "s2={1,2,3,4}\n",
        "print(s1^s2)"
      ],
      "metadata": {
        "colab": {
          "base_uri": "https://localhost:8080/"
        },
        "id": "hsohe5QPOH1f",
        "outputId": "3c72eb72-8401-43fc-8efd-f72807b4aa18"
      },
      "execution_count": null,
      "outputs": [
        {
          "output_type": "stream",
          "name": "stdout",
          "text": [
            "{4}\n"
          ]
        }
      ]
    },
    {
      "cell_type": "code",
      "source": [
        "s1={1,2,3}\n",
        "s2={1,2,3,4}\n",
        "print(s1.symmetric_difference(s2))"
      ],
      "metadata": {
        "colab": {
          "base_uri": "https://localhost:8080/"
        },
        "id": "R-wEyAO-PPTE",
        "outputId": "f79cdc2a-0a04-47d3-b169-06c5e4313fc1"
      },
      "execution_count": null,
      "outputs": [
        {
          "output_type": "stream",
          "name": "stdout",
          "text": [
            "{4}\n"
          ]
        }
      ]
    },
    {
      "cell_type": "markdown",
      "source": [
        "**Tuple:**\n",
        "1. ordered\n",
        "2. count\n",
        "3. index"
      ],
      "metadata": {
        "id": "g0ZbRQJvQOct"
      }
    },
    {
      "cell_type": "code",
      "source": [
        "t=(4,3,4,9.6)\n",
        "print(type(t))\n",
        "print(t.count(4))\n",
        "print(t.index(4))"
      ],
      "metadata": {
        "colab": {
          "base_uri": "https://localhost:8080/"
        },
        "id": "ODPV_abPPfLS",
        "outputId": "484eeb54-eb96-4d2b-eb2e-54933dcad0e4"
      },
      "execution_count": null,
      "outputs": [
        {
          "output_type": "stream",
          "name": "stdout",
          "text": [
            "<class 'tuple'>\n",
            "2\n",
            "0\n"
          ]
        }
      ]
    },
    {
      "cell_type": "code",
      "source": [
        "t=(1,2,3)\n",
        "print(t)\n",
        "k=1,2,3\n",
        "print(k)\n",
        "t2=(t,k)\n",
        "print(t2)"
      ],
      "metadata": {
        "colab": {
          "base_uri": "https://localhost:8080/"
        },
        "id": "WmRfFF8HYbap",
        "outputId": "bfa124a9-7e22-4d39-8bff-919fe92752f8"
      },
      "execution_count": null,
      "outputs": [
        {
          "output_type": "stream",
          "name": "stdout",
          "text": [
            "(1, 2, 3)\n",
            "(1, 2, 3)\n",
            "((1, 2, 3), (1, 2, 3))\n"
          ]
        }
      ]
    },
    {
      "cell_type": "markdown",
      "source": [
        "**dictionary**\n",
        "\n",
        "1. key value pairs\n",
        "2. extract keys,values from dictionary\n",
        "\n",
        "dictionay contains elements with two units key and values. keys must be unique.\n"
      ],
      "metadata": {
        "id": "_Ind0ftcRpjq"
      }
    },
    {
      "cell_type": "code",
      "source": [
        "d={1:\"one\",2:\"two\"}\n",
        "print(d)\n",
        "print(d.keys())\n",
        "print(d.values())\n",
        "print(d.items())\n",
        "print(d[1])\n",
        "print(d.get(1))"
      ],
      "metadata": {
        "colab": {
          "base_uri": "https://localhost:8080/"
        },
        "id": "eLJ3tPfSQvt2",
        "outputId": "17c25dfd-f719-4ebf-cec6-7254a46a9875"
      },
      "execution_count": null,
      "outputs": [
        {
          "output_type": "stream",
          "name": "stdout",
          "text": [
            "{1: 'one', 2: 'two'}\n",
            "dict_keys([1, 2])\n",
            "dict_values(['one', 'two'])\n",
            "dict_items([(1, 'one'), (2, 'two')])\n",
            "one\n",
            "one\n"
          ]
        }
      ]
    },
    {
      "cell_type": "code",
      "source": [
        "l=['hi','hello']\n",
        "dict.fromkeys(l)\n",
        "dict.fromkeys(l,50)\n",
        "{}.fromkeys(l,100)\n",
        "s=dict.fromkeys(l,100)\n",
        "print(s)\n"
      ],
      "metadata": {
        "colab": {
          "base_uri": "https://localhost:8080/"
        },
        "id": "qzo1bRPwSWyo",
        "outputId": "1a8fb6f7-b08f-48a5-f7da-90a31750354f"
      },
      "execution_count": null,
      "outputs": [
        {
          "output_type": "stream",
          "name": "stdout",
          "text": [
            "{'hi': 100, 'hello': 100}\n"
          ]
        }
      ]
    },
    {
      "cell_type": "code",
      "source": [
        "d={1:'a',2:'b'}\n",
        "print(d)\n",
        "d.setdefault(3,'d')\n",
        "print(d)\n",
        "d.setdefault(4)\n",
        "print(d)\n",
        "print(d.pop(1))\n",
        "print(d)\n",
        "print(d.popitem())\n",
        "print(d)"
      ],
      "metadata": {
        "colab": {
          "base_uri": "https://localhost:8080/"
        },
        "id": "D_7mTinjavBB",
        "outputId": "84098fcc-fa84-4435-eda1-df6776072709"
      },
      "execution_count": null,
      "outputs": [
        {
          "output_type": "stream",
          "name": "stdout",
          "text": [
            "{1: 'a', 2: 'b'}\n",
            "{1: 'a', 2: 'b', 3: 'd'}\n",
            "{1: 'a', 2: 'b', 3: 'd', 4: None}\n",
            "a\n",
            "{2: 'b', 3: 'd', 4: None}\n",
            "(4, None)\n",
            "{2: 'b', 3: 'd'}\n"
          ]
        }
      ]
    },
    {
      "cell_type": "code",
      "source": [],
      "metadata": {
        "id": "Fq93vH-Rbyi6"
      },
      "execution_count": null,
      "outputs": []
    }
  ]
}