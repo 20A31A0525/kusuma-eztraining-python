{
  "nbformat": 4,
  "nbformat_minor": 0,
  "metadata": {
    "colab": {
      "provenance": [],
      "authorship_tag": "ABX9TyNXbmWEYPR++nk1sPmGyVLB",
      "include_colab_link": true
    },
    "kernelspec": {
      "name": "python3",
      "display_name": "Python 3"
    },
    "language_info": {
      "name": "python"
    }
  },
  "cells": [
    {
      "cell_type": "markdown",
      "metadata": {
        "id": "view-in-github",
        "colab_type": "text"
      },
      "source": [
        "<a href=\"https://colab.research.google.com/github/20A31A0525/kusuma-eztraining-python/blob/main/CRT_DAY_4.ipynb\" target=\"_parent\"><img src=\"https://colab.research.google.com/assets/colab-badge.svg\" alt=\"Open In Colab\"/></a>"
      ]
    },
    {
      "cell_type": "markdown",
      "source": [
        "### **CRT DAY-4**"
      ],
      "metadata": {
        "id": "J-8TsWnJQzUE"
      }
    },
    {
      "cell_type": "code",
      "source": [
        "d={n:n*n for n in range(1,5)}\n",
        "print(d)"
      ],
      "metadata": {
        "colab": {
          "base_uri": "https://localhost:8080/"
        },
        "id": "wGL-2SW5Q-lw",
        "outputId": "3c54620d-9daa-45b2-8167-a426ea04ef58"
      },
      "execution_count": null,
      "outputs": [
        {
          "output_type": "stream",
          "name": "stdout",
          "text": [
            "{1: 1, 2: 4, 3: 9, 4: 16}\n"
          ]
        }
      ]
    },
    {
      "cell_type": "code",
      "source": [
        "old={'rice':60,'dhall':120,'oil':150}\n",
        "new={item:price*2 for (item,price) in old.items()}\n",
        "print(new)"
      ],
      "metadata": {
        "colab": {
          "base_uri": "https://localhost:8080/"
        },
        "id": "GDackLDCYTLi",
        "outputId": "d9b2de62-aeaa-46a4-87ef-feeee5f390d9"
      },
      "execution_count": null,
      "outputs": [
        {
          "output_type": "stream",
          "name": "stdout",
          "text": [
            "{'rice': 120, 'dhall': 240, 'oil': 300}\n"
          ]
        }
      ]
    },
    {
      "cell_type": "code",
      "source": [
        "real={'sam':24,'angel':18,'kumar':35}\n",
        "new={name:age for (name,age) in real.items() if age>20}\n",
        "print(new)"
      ],
      "metadata": {
        "colab": {
          "base_uri": "https://localhost:8080/"
        },
        "id": "RZp_gDoGYysd",
        "outputId": "ff877b43-9883-48a4-bb0b-26172ad3e4a9"
      },
      "execution_count": null,
      "outputs": [
        {
          "output_type": "stream",
          "name": "stdout",
          "text": [
            "{'sam': 24, 'kumar': 35}\n"
          ]
        }
      ]
    },
    {
      "cell_type": "markdown",
      "source": [
        "Creat a list with 8 customers names display a dictionary which has customer names along with discounts for them from a particular shop."
      ],
      "metadata": {
        "id": "xXWDNcXuawjY"
      }
    },
    {
      "cell_type": "code",
      "source": [
        "import random\n",
        "l=['kk','ll','pp','oo','ss','rr','ww','uu']\n",
        "d={}\n",
        "for i in l:\n",
        "  d[i]=random.randint(1,100)\n",
        "print(d)"
      ],
      "metadata": {
        "colab": {
          "base_uri": "https://localhost:8080/"
        },
        "id": "WYPzwnxzZPCK",
        "outputId": "2201a6f0-69a6-40b7-cb5b-2fffc0b59d9c"
      },
      "execution_count": null,
      "outputs": [
        {
          "output_type": "stream",
          "name": "stdout",
          "text": [
            "{'kk': 45, 'll': 57, 'pp': 37, 'oo': 52, 'ss': 18, 'rr': 74, 'ww': 3, 'uu': 68}\n"
          ]
        }
      ]
    },
    {
      "cell_type": "code",
      "source": [
        "l=['a','b','c']\n",
        "b=[1,2,3]\n",
        "\n",
        "d={k:v for k,v in zip(l,b)}\n",
        "print(d) "
      ],
      "metadata": {
        "colab": {
          "base_uri": "https://localhost:8080/"
        },
        "id": "-0UjDRMCcQVI",
        "outputId": "e602f315-971b-43dd-e116-ee38b41cedad"
      },
      "execution_count": null,
      "outputs": [
        {
          "output_type": "stream",
          "name": "stdout",
          "text": [
            "{'a': 1, 'b': 2, 'c': 3}\n"
          ]
        }
      ]
    },
    {
      "cell_type": "code",
      "source": [
        "import random\n",
        "student=['kk','ll','mm','nn','pp']\n",
        "\n",
        "for i in student:\n",
        "  d[i]=(random.randint(300,500)/500)*100\n",
        "\n",
        "print(d)\n"
      ],
      "metadata": {
        "id": "nGiL2ISxgPZL",
        "colab": {
          "base_uri": "https://localhost:8080/"
        },
        "outputId": "950660ca-e5ca-431a-a9ad-dcf02dade231"
      },
      "execution_count": null,
      "outputs": [
        {
          "output_type": "stream",
          "name": "stdout",
          "text": [
            "{'kk': 76.8, 'll': 91.8, 'mm': 87.0, 'nn': 85.39999999999999, 'pp': 62.4}\n"
          ]
        }
      ]
    },
    {
      "cell_type": "markdown",
      "source": [
        "# **String**"
      ],
      "metadata": {
        "id": "G78zNyjirkWC"
      }
    },
    {
      "cell_type": "code",
      "source": [
        "a=\"kusu\"m\"a\"\n",
        "print(a)"
      ],
      "metadata": {
        "colab": {
          "base_uri": "https://localhost:8080/",
          "height": 130
        },
        "id": "AKDhs6A0oOXg",
        "outputId": "c8fc2b6f-b49a-4366-ae36-70fe6f1e901f"
      },
      "execution_count": null,
      "outputs": [
        {
          "output_type": "error",
          "ename": "SyntaxError",
          "evalue": "ignored",
          "traceback": [
            "\u001b[0;36m  File \u001b[0;32m\"<ipython-input-13-3545f6794e38>\"\u001b[0;36m, line \u001b[0;32m1\u001b[0m\n\u001b[0;31m    a=\"kusu\"m\"a\"\u001b[0m\n\u001b[0m            ^\u001b[0m\n\u001b[0;31mSyntaxError\u001b[0m\u001b[0;31m:\u001b[0m invalid syntax\n"
          ]
        }
      ]
    },
    {
      "cell_type": "code",
      "source": [
        "a=\"kusu'm'a\"\n",
        "print(a)"
      ],
      "metadata": {
        "colab": {
          "base_uri": "https://localhost:8080/"
        },
        "id": "I8nNOCi_rtMV",
        "outputId": "8f9717a4-ba73-48f4-af7d-e28ad166187c"
      },
      "execution_count": null,
      "outputs": [
        {
          "output_type": "stream",
          "name": "stdout",
          "text": [
            "kusu'm'a\n"
          ]
        }
      ]
    },
    {
      "cell_type": "code",
      "source": [
        "a='hi i\\'am'\n",
        "print(a)"
      ],
      "metadata": {
        "colab": {
          "base_uri": "https://localhost:8080/"
        },
        "id": "ThAP2alyr09P",
        "outputId": "e76471e7-5f49-4820-ffbd-18fcd71d6dd4"
      },
      "execution_count": null,
      "outputs": [
        {
          "output_type": "stream",
          "name": "stdout",
          "text": [
            "hi i'am\n"
          ]
        }
      ]
    },
    {
      "cell_type": "markdown",
      "source": [
        "**String operations**\n",
        "\n",
        "1. upper()\n",
        "2. lower() or s.casefold()\n",
        "3. capitailize()\n",
        "4. replace('h','a')\n",
        "5. strip()\n",
        "6. split()\n",
        "7. center(31,'*')\n",
        "8. count('a')\n",
        "9. count('a',5,len(s))\n",
        "10. endswith('a',0,len(s))\n",
        "11. find('a',0,len(s))\n",
        "12. index('a',7,len(s))"
      ],
      "metadata": {
        "id": "87-Eru6Ysuvu"
      }
    },
    {
      "cell_type": "code",
      "source": [
        "print(max('a','b','c'))"
      ],
      "metadata": {
        "colab": {
          "base_uri": "https://localhost:8080/"
        },
        "id": "ORpCTX9gsBq2",
        "outputId": "7545e8d5-1532-4c05-d9f1-4cae064b22f3"
      },
      "execution_count": null,
      "outputs": [
        {
          "output_type": "stream",
          "name": "stdout",
          "text": [
            "c\n"
          ]
        }
      ]
    },
    {
      "cell_type": "code",
      "source": [
        "a=\"KUSU\"\n",
        "print(a.lower())\n",
        "print(a.casefold())\n",
        "a=\"kusu\"\n",
        "print(a.upper())\n",
        "print(a.replace('u',\"\"))\n",
        "a=' kus uma '\n",
        "print(a.strip())\n",
        "print(a.split('u'))\n",
        "a=\"KUSU\"\n",
        "a=a.center(11,'*')\n",
        "print(a)\n",
        "a=\"kusu\"\n",
        "print(a.count('u'))"
      ],
      "metadata": {
        "colab": {
          "base_uri": "https://localhost:8080/"
        },
        "id": "UiIRMwtOvMi_",
        "outputId": "9680bb7a-9833-42f3-c474-b4003a83b24a"
      },
      "execution_count": null,
      "outputs": [
        {
          "output_type": "stream",
          "name": "stdout",
          "text": [
            "kusu\n",
            "kusu\n",
            "KUSU\n",
            "ks\n",
            "kus uma\n",
            "[' k', 's ', 'ma ']\n",
            "****KUSU***\n",
            "2\n"
          ]
        }
      ]
    },
    {
      "cell_type": "markdown",
      "source": [
        "# **Mutable and immutable**\n",
        "1. Mutable:\n",
        "\n",
        "\n",
        " *   list\n",
        " *   set\n",
        " *   dictionay\n",
        "\n",
        "2. immutable:\n",
        "\n",
        " *   int \n",
        " *   bool\n",
        " *   tuple\n",
        " *   float\n",
        " *   string\n",
        " \n",
        "\n",
        "\n",
        "\n",
        "\n",
        "\n",
        "\n"
      ],
      "metadata": {
        "id": "HXRbz4wcHpXq"
      }
    },
    {
      "cell_type": "code",
      "source": [
        "x=20\n",
        "print(id(x))\n",
        "x=25\n",
        "print(id(x))\n",
        "t=True\n",
        "print(id(t))\n",
        "t=False\n",
        "print(id(t))\n",
        "t=(1,2,3)\n",
        "print(id(t))\n",
        "t=(t,5)\n",
        "print(id(t))"
      ],
      "metadata": {
        "id": "zPZUhWxHv4co",
        "colab": {
          "base_uri": "https://localhost:8080/"
        },
        "outputId": "91d29d1d-7975-44ba-d062-6f447c7bf49b"
      },
      "execution_count": 11,
      "outputs": [
        {
          "output_type": "stream",
          "name": "stdout",
          "text": [
            "9793696\n",
            "9793856\n",
            "9480544\n",
            "9478112\n",
            "140681777956480\n",
            "140681531572992\n"
          ]
        }
      ]
    },
    {
      "cell_type": "code",
      "source": [
        "l=[1,2,3]\n",
        "print(id(l))\n",
        "l.append(5)\n",
        "print(id(l))"
      ],
      "metadata": {
        "colab": {
          "base_uri": "https://localhost:8080/"
        },
        "id": "u35q6wUSLa5P",
        "outputId": "dddfb010-30f3-49a6-fd29-169b6f7f6d17"
      },
      "execution_count": 2,
      "outputs": [
        {
          "output_type": "stream",
          "name": "stdout",
          "text": [
            "140681675685760\n",
            "140681675685760\n"
          ]
        }
      ]
    },
    {
      "cell_type": "markdown",
      "source": [
        "Get one string as input along with one characte find out and display whether that particular character is present or not "
      ],
      "metadata": {
        "id": "UdC2KttgMbOP"
      }
    },
    {
      "cell_type": "code",
      "source": [
        "s=input(\"enter a string\")\n",
        "a=input(\"enter a character\")\n",
        "c=0\n",
        "for i in s:\n",
        "  if i==a:\n",
        "    print(\"Yes the character is in given string\")\n",
        "    c=1\n",
        "if c==0:\n",
        "  print(\"no the character is not present in given string\")\n",
        "\n"
      ],
      "metadata": {
        "colab": {
          "base_uri": "https://localhost:8080/"
        },
        "id": "c-zs4YF1LnQf",
        "outputId": "70002d24-1a68-422d-ed32-a2b03d0f9247"
      },
      "execution_count": 15,
      "outputs": [
        {
          "output_type": "stream",
          "name": "stdout",
          "text": [
            "enter a stringkusuma\n",
            "enter a characterk\n",
            "Yes the character is in given string\n"
          ]
        }
      ]
    },
    {
      "cell_type": "markdown",
      "source": [
        "Check whether string is palindrome or not"
      ],
      "metadata": {
        "id": "sKcPPyPJMqbm"
      }
    },
    {
      "cell_type": "code",
      "source": [
        "s=input(\"enter a string\")\n",
        "if s==s[::-1]:\n",
        "  print(\"This is palindrome\")\n",
        "else:\n",
        "  print(\"this is not a palindrome\")"
      ],
      "metadata": {
        "id": "QYFdRDOJNigC",
        "outputId": "afaf471f-7160-45c3-c9b8-685a94540d32",
        "colab": {
          "base_uri": "https://localhost:8080/"
        }
      },
      "execution_count": 17,
      "outputs": [
        {
          "output_type": "stream",
          "name": "stdout",
          "text": [
            "enter a stringeye\n",
            "This is palindrome\n"
          ]
        }
      ]
    },
    {
      "cell_type": "markdown",
      "source": [
        "After geting a string as input check your string contains spaces or not if yes then count number of spaces in it and find it."
      ],
      "metadata": {
        "id": "jAWu33IHMvMy"
      }
    },
    {
      "cell_type": "code",
      "source": [
        "s=input(\"enter a string\")\n",
        "c=0\n",
        "for i in s:\n",
        "  if i==\" \":\n",
        "    c=c+1\n",
        "if c>0:\n",
        "  print(\"count of spaces=\",c)\n",
        "else:\n",
        "  print(\"There is no spaces\")\n",
        "\n",
        "\n"
      ],
      "metadata": {
        "id": "szjbMftsODKR",
        "outputId": "439c022c-8879-4032-c249-06099e783f5a",
        "colab": {
          "base_uri": "https://localhost:8080/"
        }
      },
      "execution_count": 16,
      "outputs": [
        {
          "output_type": "stream",
          "name": "stdout",
          "text": [
            "enter a stringkusu ma\n",
            "count of spaces= 1\n"
          ]
        }
      ]
    },
    {
      "cell_type": "markdown",
      "source": [
        "count vowels from the string and display the result"
      ],
      "metadata": {
        "id": "TD2kxVUFeM0F"
      }
    },
    {
      "cell_type": "code",
      "source": [
        "l=['a','e','o','u','A','E','O','I','U']\n",
        "s=input(\"enter a string\")\n",
        "c=0\n",
        "for i in s:\n",
        "  if i in l:\n",
        "    c=c+1\n",
        "print(\"Number of vowels=\",c)\n"
      ],
      "metadata": {
        "id": "6TkwqvTNORbC",
        "outputId": "4586bfd7-41e4-490b-b207-391c012f19e9",
        "colab": {
          "base_uri": "https://localhost:8080/"
        }
      },
      "execution_count": 18,
      "outputs": [
        {
          "output_type": "stream",
          "name": "stdout",
          "text": [
            "enter a stringkusuma\n",
            "Number of vowels= 3\n"
          ]
        }
      ]
    },
    {
      "cell_type": "code",
      "source": [
        "import math\n",
        "print(\"ceil\",math.ceil(12.5))\n",
        "print(\"floor\",math.floor(12.5))\n",
        "print(\"sqrt\",math.sqrt(345))\n",
        "print(\"Factorial\",math.factorial(3))\n",
        "print(\"Power\",math.pow(2,3))\n",
        "print(\"reminder\",math.fmod(10,3))\n",
        "a,b=divmod(10,3)\n",
        "print(a,b)"
      ],
      "metadata": {
        "id": "Sn51ZmJhk-CK",
        "outputId": "014c4726-ba57-4119-9cda-903289d972a9",
        "colab": {
          "base_uri": "https://localhost:8080/"
        }
      },
      "execution_count": 20,
      "outputs": [
        {
          "output_type": "stream",
          "name": "stdout",
          "text": [
            "ceil 13\n",
            "floor 12\n",
            "sqrt 18.57417562100671\n",
            "Factorial 6\n",
            "Power 8.0\n",
            "reminder 1.0\n",
            "3 1\n"
          ]
        }
      ]
    },
    {
      "cell_type": "code",
      "source": [],
      "metadata": {
        "id": "uq41BVcGlp_1"
      },
      "execution_count": null,
      "outputs": []
    }
  ]
}