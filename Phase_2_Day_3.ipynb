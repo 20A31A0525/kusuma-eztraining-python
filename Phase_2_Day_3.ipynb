{
  "nbformat": 4,
  "nbformat_minor": 0,
  "metadata": {
    "colab": {
      "provenance": [],
      "authorship_tag": "ABX9TyOsPZA6Ozu0VKpwre92A55Z",
      "include_colab_link": true
    },
    "kernelspec": {
      "name": "python3",
      "display_name": "Python 3"
    },
    "language_info": {
      "name": "python"
    }
  },
  "cells": [
    {
      "cell_type": "markdown",
      "metadata": {
        "id": "view-in-github",
        "colab_type": "text"
      },
      "source": [
        "<a href=\"https://colab.research.google.com/github/20A31A0525/kusuma-eztraining-python/blob/main/Phase_2_Day_3.ipynb\" target=\"_parent\"><img src=\"https://colab.research.google.com/assets/colab-badge.svg\" alt=\"Open In Colab\"/></a>"
      ]
    },
    {
      "cell_type": "markdown",
      "source": [
        " ** Linked list program for insertion,deletion,display**"
      ],
      "metadata": {
        "id": "W06YxeJI9OWB"
      }
    },
    {
      "cell_type": "code",
      "execution_count": null,
      "metadata": {
        "colab": {
          "base_uri": "https://localhost:8080/"
        },
        "id": "ZNprTr9FGqBz",
        "outputId": "93fa1984-1143-4b17-b9a6-6a146f5a2bf3"
      },
      "outputs": [
        {
          "output_type": "stream",
          "name": "stdout",
          "text": [
            " \n",
            "start: 10->15->20->30->end\n",
            "start: 10->15->30->end\n"
          ]
        }
      ],
      "source": [
        "class Node:\n",
        "    def __init__(self,data):\n",
        "        self.data=data\n",
        "        self.next=None\n",
        "class linkedlist:\n",
        "    def __init__(self):\n",
        "        self.head=None\n",
        "    def printlist(self):\n",
        "        if not self.head:\n",
        "            print('List is empty')\n",
        "        else:\n",
        "            print('start:',end=\" \")\n",
        "        temp=self.head\n",
        "        while(temp):\n",
        "            print(temp.data,end=\"->\")\n",
        "            temp=temp.next\n",
        "        print('end')\n",
        "    def insertlist(self,data):\n",
        "        new_node=Node(data)\n",
        "        if self.head==None:\n",
        "            self.head=new_node\n",
        "        elif self.head.data>=new_node.data:\n",
        "            new_node.next=self.head\n",
        "            self.head=new_node\n",
        "        else:\n",
        "            current = self.head\n",
        "            while(current.next and\n",
        "                 current.next.data < new_node.data):\n",
        "                current = current.next\n",
        "\n",
        "            new_node.next = current.next\n",
        "            current.next = new_node\n",
        "\n",
        "\n",
        "\n",
        "\n",
        "    def deletenode(self,key):\n",
        "      if self.head is None:\n",
        "        print(\"You can't delete the node because list is empty\")\n",
        "      elif self.head==key:\n",
        "        self.head=self.head.next\n",
        "        return\n",
        "      current=self.head\n",
        "      while current:\n",
        "        if current.data==key:\n",
        "          break\n",
        "        previous=current\n",
        "        current=current.next\n",
        "      if current is None:\n",
        "        print(\"Key not found\")\n",
        "      else:\n",
        "        previous.next=current.next\n",
        "if __name__=='__main__':\n",
        "  LL=linkedlist()\n",
        "  print(' ')\n",
        "  LL.insertlist(10)\n",
        "  LL.insertlist(20)\n",
        "  LL.insertlist(30)\n",
        "  LL.insertlist(15)\n",
        "  LL.printlist()\n",
        "  LL.deletenode(20)\n",
        "  LL.printlist()\n",
        "\n",
        "\n",
        "\n"
      ]
    },
    {
      "cell_type": "code",
      "source": [
        "print(\"before function\")\n",
        "def f1():\n",
        "  print('f1')\n",
        "def f2():\n",
        "  print('f2')\n",
        "def f3():\n",
        "  print('f3')\n",
        "if __name__=='__main__':\n",
        "  f1()\n",
        "  f2()\n",
        "  f3()\n",
        "print(\"name\",__name__)"
      ],
      "metadata": {
        "id": "ebZo8AWcK_CE",
        "colab": {
          "base_uri": "https://localhost:8080/"
        },
        "outputId": "47f098d4-9ae5-477d-c5eb-abca803ed650"
      },
      "execution_count": null,
      "outputs": [
        {
          "output_type": "stream",
          "name": "stdout",
          "text": [
            "before function\n",
            "f1\n",
            "f2\n",
            "f3\n",
            "name __main__\n"
          ]
        }
      ]
    },
    {
      "cell_type": "markdown",
      "source": [
        "Double linked list"
      ],
      "metadata": {
        "id": "CPXIU-UF4dpX"
      }
    },
    {
      "cell_type": "code",
      "source": [
        "class Node:\n",
        "  def __init__(self,data):\n",
        "    self.data=data\n",
        "    self.prev=None\n",
        "    self.next=None\n",
        "\n",
        "\n",
        "class dll:\n",
        "  def __init__(self):\n",
        "    self.head=None\n",
        "  def insertatstart(self):\n",
        "    new_node=Node(100)\n",
        "    temp=self.head\n",
        "    temp.prev=new_node\n",
        "    new_node.next=temp\n",
        "    self.head=new_node\n",
        "  def insertatend(self):\n",
        "    new_node=Node(200)\n",
        "    temp=self.head\n",
        "    while(temp.next!=None):\n",
        "      temp=temp.next\n",
        "    temp.next=new_node\n",
        "    new_node.prev=temp\n",
        "  def insertatpos(self,data,pos):\n",
        "    temp=self.head\n",
        "    new_node=Node(data)\n",
        "\n",
        "    for i in range(pos-1):\n",
        "      temp=temp.next\n",
        "    new_node.next=temp.next\n",
        "    new_node.prev=temp\n",
        "    temp.next.prev=new_node.prev\n",
        "    temp.next=new_node\n",
        "  def deleteatstart(self):\n",
        "    temp=self.head\n",
        "    self.head=self.head.next\n",
        "    temp.next=None\n",
        "  def deleteatend(self):\n",
        "    temp=self.head.next\n",
        "    previous=self.head\n",
        "    while temp.next:\n",
        "      previous=temp\n",
        "      temp=temp.next\n",
        "    previous.next=None\n",
        "    temp.prev=None\n",
        "  def deleteatpos(self,pos):\n",
        "\n",
        "    temp=self.head.next\n",
        "    prev=self.head\n",
        "    for i in range(pos-1):\n",
        "      temp=temp.next\n",
        "      prev=prev.next\n",
        "    prev.next=temp.next\n",
        "    temp.next=None\n",
        "\n",
        "  def display(self):\n",
        "    if self.head is None:\n",
        "      print(\"Empty\")\n",
        "    else:\n",
        "      temp=self.head\n",
        "      while temp:\n",
        "        print(temp.data,end=\"<->\")\n",
        "        temp=temp.next\n",
        "\n",
        "\n",
        "\n",
        "\n",
        "\n",
        "l=dll()\n",
        "n1=Node(20)\n",
        "l.head=n1\n",
        "n2=Node(20)\n",
        "n2.prev=n1.next\n",
        "n1.next=n2\n",
        "l.display()\n",
        "print()\n",
        "print(\"inserting at front\")\n",
        "l.insertatstart()\n",
        "l.display()\n",
        "print()\n",
        "print(\"insertion at end\")\n",
        "l.insertatend()\n",
        "l.display()\n",
        "print()\n",
        "print(\"insert at position\")\n",
        "l.insertatpos(500,2)\n",
        "l.display()\n",
        "print()\n",
        "print(\"deleting first node\")\n",
        "l.deleteatstart()\n",
        "l.display()\n",
        "print()\n",
        "print(\"deleting at end\")\n",
        "l.deleteatend()\n",
        "l.display()\n",
        "l.insertatstart()\n",
        "print()\n",
        "l.display()\n",
        "l.deleteatpos(2)\n",
        "print()\n",
        "l.display()\n",
        "\n",
        "\n",
        "\n",
        ""
      ],
      "metadata": {
        "id": "PmkhsL0linJQ",
        "colab": {
          "base_uri": "https://localhost:8080/"
        },
        "outputId": "c392ea44-b8b1-4ea8-90e8-d70a3eba1ec0"
      },
      "execution_count": null,
      "outputs": [
        {
          "output_type": "stream",
          "name": "stdout",
          "text": [
            "20<->20<->\n",
            "inserting at front\n",
            "100<->20<->20<->\n",
            "insertion at end\n",
            "100<->20<->20<->200<->\n",
            "insert at position\n",
            "100<->20<->500<->20<->200<->\n",
            "deleting first node\n",
            "20<->500<->20<->200<->\n",
            "deleting at end\n",
            "20<->500<->20<->\n",
            "100<->20<->500<->20<->\n",
            "100<->20<->20<->"
          ]
        }
      ]
    },
    {
      "cell_type": "markdown",
      "source": [
        "**Circular linked list**"
      ],
      "metadata": {
        "id": "ByD26t_4RvIz"
      }
    },
    {
      "cell_type": "code",
      "source": [
        "#creation and displaying circular linked list\n",
        "class Node:\n",
        "  def __init__(self,data):\n",
        "    self.data=data\n",
        "    self.next=None\n",
        "class createlist:\n",
        "  def __init__(self):\n",
        "    self.head=Node(None)\n",
        "    self.tail=Node(None)\n",
        "    self.head.next=self.tail\n",
        "    self.tail.next=self.head\n",
        "  def add(self,data):\n",
        "    newNode=Node(data)\n",
        "    if self.head.data is None:\n",
        "      self.head=newNode\n",
        "      self.tail=newNode\n",
        "      newNode.next=self.head\n",
        "    else:\n",
        "      self.tail.next=newNode\n",
        "      self.tail=newNode\n",
        "      self.tail.next=self.head\n",
        "  def display(self):\n",
        "    temp=self.head\n",
        "    if self.head is None:\n",
        "      print(\"list is empty\")\n",
        "      return\n",
        "    else:\n",
        "      print(\"Nodes of the circular linked list\")\n",
        "      print(temp.data,\"-->\")\n",
        "      while(temp.next!=self.head):\n",
        "        temp=temp.next\n",
        "        print(temp.data,\"-->\")\n",
        "class CircularLinkedList:\n",
        "  cl=createlist()\n",
        "  cl.add(\"S\")\n",
        "  cl.add(\"M\")\n",
        "  cl.add(\"I\")\n",
        "  cl.add(\"L\")\n",
        "  cl.add(\"E\")\n",
        "  cl.display()"
      ],
      "metadata": {
        "id": "1Vy4E7006edF",
        "outputId": "e7fa1487-09b0-4374-dc81-6c312d2393a8",
        "colab": {
          "base_uri": "https://localhost:8080/"
        }
      },
      "execution_count": null,
      "outputs": [
        {
          "output_type": "stream",
          "name": "stdout",
          "text": [
            "Nodes of the circular linked list\n",
            "S -->\n",
            "M -->\n",
            "I -->\n",
            "L -->\n",
            "E -->\n"
          ]
        }
      ]
    }
  ]
}