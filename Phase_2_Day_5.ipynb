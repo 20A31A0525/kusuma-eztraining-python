{
  "cells": [
    {
      "cell_type": "markdown",
      "metadata": {
        "id": "view-in-github",
        "colab_type": "text"
      },
      "source": [
        "<a href=\"https://colab.research.google.com/github/20A31A0525/kusuma-eztraining-python/blob/main/Phase_2_Day_5.ipynb\" target=\"_parent\"><img src=\"https://colab.research.google.com/assets/colab-badge.svg\" alt=\"Open In Colab\"/></a>"
      ]
    },
    {
      "cell_type": "markdown",
      "metadata": {
        "id": "DP5UxADbmMyn"
      },
      "source": [
        "**Binary Tree:**\n",
        "\n",
        "A node can have maximum only 2 children\n",
        "\n",
        "implementation of binary tree\n",
        "                          "
      ]
    },
    {
      "cell_type": "code",
      "execution_count": null,
      "metadata": {
        "colab": {
          "base_uri": "https://localhost:8080/"
        },
        "id": "I4ABQMwcmLYn",
        "outputId": "8c75662e-207e-4f80-eff8-2eeec339989c"
      },
      "outputs": [
        {
          "name": "stdout",
          "output_type": "stream",
          "text": [
            "root node is 50\n",
            "left node of root node is: 20\n",
            "right node of rootnode is: 45\n",
            "left child of left node of  11\n"
          ]
        }
      ],
      "source": [
        "class BinaryTreeNode:\n",
        "  def __init__(self,data):\n",
        "    self.data=data\n",
        "    self.leftchild=None\n",
        "    self.righrchild=None\n",
        "node1=BinaryTreeNode(50)\n",
        "node2=BinaryTreeNode(20)\n",
        "node3=BinaryTreeNode(45)\n",
        "node4=BinaryTreeNode(11)\n",
        "node5=BinaryTreeNode(15)\n",
        "node6=BinaryTreeNode(30)\n",
        "node7=BinaryTreeNode(78)\n",
        "node1.leftchild=node2\n",
        "node1.rightchild=node3\n",
        "node2.leftchild=node4\n",
        "node2.righrchild=node5\n",
        "node3.leftchild=node6\n",
        "node3.rightchild=node7\n",
        "print(\"root node is\",node1.data)\n",
        "print(\"left node of root node is:\",node1.leftchild.data)\n",
        "print(\"right node of rootnode is:\",node1.rightchild.data)\n",
        "print(\"left child of left node of \",node1.leftchild.leftchild.data)"
      ]
    },
    {
      "cell_type": "markdown",
      "metadata": {
        "id": "S3hbNGqtHUgJ"
      },
      "source": [
        "Traversing methods:\n",
        "\n",
        "inorder : left-root-right\n",
        "preorder : root-left-right\n",
        "postorder : left-right,root\n"
      ]
    },
    {
      "cell_type": "code",
      "execution_count": null,
      "metadata": {
        "colab": {
          "base_uri": "https://localhost:8080/"
        },
        "id": "6MWPf5bKG73z",
        "outputId": "44dbf150-d995-4bae-b21e-cb744f713c90"
      },
      "outputs": [
        {
          "name": "stdout",
          "output_type": "stream",
          "text": [
            "4 2 5 1 3 \n",
            "4 5 2 3 1 \n",
            "1 2 4 5 3 "
          ]
        }
      ],
      "source": [
        "class Node:\n",
        "  def __init__(self,data):\n",
        "    self.data=data\n",
        "    self.left=None\n",
        "    self.right=None\n",
        "def printinorder(root):\n",
        "  if root:\n",
        "    printinorder(root.left)\n",
        "    print(root.data,end=\" \")\n",
        "    printinorder(root.right)\n",
        "def printpostorder(root):\n",
        "  if root:\n",
        "    printpostorder(root.left)\n",
        "    printpostorder(root.right)\n",
        "    print(root.data,end=\" \")\n",
        "def printpreorder(root):\n",
        "  if root:\n",
        "    print(root.data,end=\" \")\n",
        "    printpreorder(root.left)\n",
        "    printpreorder(root.right)\n",
        "root=Node(1)\n",
        "root.left=Node(2)\n",
        "root.right=Node(3)\n",
        "root.left.left=Node(4)\n",
        "root.left.right=Node(5)\n",
        "printinorder(root)\n",
        "print()\n",
        "printpostorder(root)\n",
        "print()\n",
        "printpreorder(root)\n"
      ]
    },
    {
      "cell_type": "markdown",
      "metadata": {
        "id": "GjWvz4RYPN0U"
      },
      "source": [
        "Binary tree types\n",
        "\n",
        "1. full binary tree (Number of childrens 0 or 2)\n",
        "\n",
        "2. pathological tree or degenerate tree (Number of childrens or 0 or 1)\n",
        "\n",
        "3. Skewed binary tree\n",
        "\n",
        "    * left skewed tree\n",
        "\n",
        "    * right skewed tree\n",
        "\n",
        "4. complete binary tree\n",
        "  \n",
        "    * in last level if it is incomplete nodes should present at extreem left.\n",
        "\n",
        "    * all levels must be full except last level.\n",
        "5. perfect binary tree\n",
        " \n",
        "    * All internal nodes those who have 2 children \n",
        "\n",
        "    * leaf nodes both must be at same level.\n",
        "\n",
        "6. Balanced Binary tree\n",
        "  \n",
        "    * for all the nodes height of left subtree-height of right subtree can be zero or one\n",
        "\n",
        "     \n"
      ]
    },
    {
      "cell_type": "markdown",
      "metadata": {
        "id": "lTfepfrAUsku"
      },
      "source": [
        "**Binary Search Tree:**\n",
        "\n",
        "    * All the left side elements should be lesser than its parent.\n",
        "\n",
        "    * All the right side elements should be greater than its parent.\n",
        "\n"
      ]
    },
    {
      "cell_type": "markdown",
      "metadata": {
        "id": "cmVPQEcJhvfg"
      },
      "source": [
        "Binary search tree implementation\n"
      ]
    },
    {
      "cell_type": "code",
      "execution_count": null,
      "metadata": {
        "colab": {
          "base_uri": "https://localhost:8080/"
        },
        "id": "n-pHJyR2LnBl",
        "outputId": "296bdc5e-7ef0-4157-b321-0282a8bf91bc"
      },
      "outputs": [
        {
          "name": "stdout",
          "output_type": "stream",
          "text": [
            "11\n",
            "12\n",
            "20\n",
            "34\n",
            "54\n"
          ]
        }
      ],
      "source": [
        "class Node:\n",
        "  def __init__(self,key):\n",
        "    \n",
        "    self.left=None\n",
        "    self.right=None\n",
        "    self.val=key\n",
        "    \n",
        "def insert(root,key):\n",
        "  if root==None:\n",
        "    return Node(key)\n",
        "  else:\n",
        "    if root.val==key:\n",
        "      return root\n",
        "    elif root.val<key:\n",
        "\n",
        "      root.right=insert(root.right,key)\n",
        "    else:\n",
        "      root.left=insert(root.left,key)\n",
        "  return root\n",
        "def inorder(root):\n",
        "  if root:\n",
        "    inorder(root.left)\n",
        "    print(root.val)\n",
        "    inorder(root.right)\n",
        "root=Node(20)\n",
        "root=insert(root,34)\n",
        "root=insert(root,12)\n",
        "root=insert(root,11)\n",
        "root=insert(root,54)\n",
        "inorder(root)\n"
      ]
    },
    {
      "cell_type": "markdown",
      "metadata": {
        "id": "4EoGDNjlp51g"
      },
      "source": [
        "Deleting node in bst"
      ]
    },
    {
      "cell_type": "code",
      "execution_count": null,
      "metadata": {
        "colab": {
          "base_uri": "https://localhost:8080/"
        },
        "id": "W-pCOMjejyNA",
        "outputId": "653715f2-a895-423f-c6ec-b0fb82778592"
      },
      "outputs": [
        {
          "name": "stdout",
          "output_type": "stream",
          "text": [
            "inorder traversal of binary tree is:\n",
            "20\n",
            "30\n",
            "40\n",
            "50\n",
            "60\n",
            "70\n",
            "80\n",
            "delete 20\n",
            "30\n",
            "40\n",
            "50\n",
            "60\n",
            "70\n",
            "80\n",
            "delte 30\n",
            "40\n",
            "50\n",
            "60\n",
            "70\n",
            "80\n"
          ]
        }
      ],
      "source": [
        "class Node:\n",
        "  def __init__(self,key):\n",
        "    \n",
        "    self.left=None\n",
        "    self.right=None\n",
        "    self.val=key\n",
        "def inorder(root):\n",
        "  if root:\n",
        "    inorder(root.left)\n",
        "    print(root.val)\n",
        "    inorder(root.right)\n",
        "    \n",
        "def insert(root,key):\n",
        "  if root==None:\n",
        "    return Node(key)\n",
        "  else:\n",
        "    if root.val==key:\n",
        "      return root\n",
        "    elif root.val<key:\n",
        "\n",
        "      root.right=insert(root.right,key)\n",
        "    else:\n",
        "      root.left=insert(root.left,key)\n",
        "  return root\n",
        "def minvalnode(node):\n",
        "  current=node\n",
        "  while(current.left is not None):\n",
        "    current=current.left\n",
        "  return current\n",
        "def deletenode(root,key):\n",
        "  if root is None:\n",
        "    return root\n",
        "  if key<root.val:\n",
        "    root.left=deletenode(root.left,key)\n",
        "  elif key>root.val:\n",
        "    root.right=deletenode(root.right,key)\n",
        "  else:\n",
        "    if root.left is None:\n",
        "      temp=root.right\n",
        "      root=None\n",
        "      return temp\n",
        "    elif root.right is None:\n",
        "      temp=root.left\n",
        "      root=None\n",
        "      return temp\n",
        "    temp=minvalnode(root.right)\n",
        "    root.val=temp.val\n",
        "    root.right=deletenode(root.right,temp.val)\n",
        "  return root\n",
        "root=None\n",
        "root=insert(root,50)\n",
        "root=insert(root,30)\n",
        "root=insert(root,20)\n",
        "root=insert(root,40)\n",
        "root=insert(root,70)\n",
        "root=insert(root,60)\n",
        "root=insert(root,80)\n",
        "print(\"inorder traversal of binary tree is:\")\n",
        "inorder(root)\n",
        "print(\"delete 20\")\n",
        "deletenode(root,20)\n",
        "inorder(root)\n",
        "print(\"delte 30\")\n",
        "deletenode(root,30)\n",
        "inorder(root)\n",
        "\n",
        "\n",
        "\n",
        "  "
      ]
    },
    {
      "cell_type": "markdown",
      "metadata": {
        "id": "eVmOd8HnpQj5"
      },
      "source": []
    },
    {
      "cell_type": "markdown",
      "metadata": {
        "id": "yxqNnbqlzmv2"
      },
      "source": []
    }
  ],
  "metadata": {
    "colab": {
      "provenance": [],
      "authorship_tag": "ABX9TyMJ63eZVBKLAFz/flOKrG1K",
      "include_colab_link": true
    },
    "kernelspec": {
      "display_name": "Python 3",
      "name": "python3"
    },
    "language_info": {
      "name": "python"
    }
  },
  "nbformat": 4,
  "nbformat_minor": 0
}