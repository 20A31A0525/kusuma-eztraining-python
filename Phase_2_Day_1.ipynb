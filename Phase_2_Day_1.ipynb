{
  "nbformat": 4,
  "nbformat_minor": 0,
  "metadata": {
    "colab": {
      "provenance": [],
      "authorship_tag": "ABX9TyMOkKzDbSwnkrubX9/lRASj",
      "include_colab_link": true
    },
    "kernelspec": {
      "name": "python3",
      "display_name": "Python 3"
    },
    "language_info": {
      "name": "python"
    }
  },
  "cells": [
    {
      "cell_type": "markdown",
      "metadata": {
        "id": "view-in-github",
        "colab_type": "text"
      },
      "source": [
        "<a href=\"https://colab.research.google.com/github/20A31A0525/kusuma-eztraining-python/blob/main/Phase_2_Day_1.ipynb\" target=\"_parent\"><img src=\"https://colab.research.google.com/assets/colab-badge.svg\" alt=\"Open In Colab\"/></a>"
      ]
    },
    {
      "cell_type": "markdown",
      "source": [
        "# Lambda Function\n",
        "It is called as anonymous function when we want to use function concept alone without function name there we apply concept of Lambda function."
      ],
      "metadata": {
        "id": "G8UDftCZVyE6"
      }
    },
    {
      "cell_type": "code",
      "execution_count": 1,
      "metadata": {
        "colab": {
          "base_uri": "https://localhost:8080/"
        },
        "id": "rkjOH662VtxP",
        "outputId": "689ab081-8bee-421e-c11c-b127d071526f"
      },
      "outputs": [
        {
          "output_type": "stream",
          "name": "stdout",
          "text": [
            "[2, 4, 6]\n",
            "[1, 4, 9]\n",
            "kusuma\n"
          ]
        }
      ],
      "source": [
        "#Anonymous Function\n",
        "L=[1,2,3]\n",
        "r=map(lambda x:x+x,L)\n",
        "print(list(r))\n",
        "res=map(lambda n:pow(n,2),L)\n",
        "print(list(res))\n",
        "name=\"kusuma\"\n",
        "(lambda name:print(name))(name)"
      ]
    },
    {
      "cell_type": "markdown",
      "source": [
        "Write a program after creating a list with even numbers within the range 1-15 now apply lambda function and create a new list which should have square roots of the elements"
      ],
      "metadata": {
        "id": "wQ9owOfNWGlM"
      }
    },
    {
      "cell_type": "code",
      "source": [
        "import math\n",
        "l=[]\n",
        "for i in range (1,15):\n",
        "  if(i%2==0):\n",
        "    l.append(i)\n",
        "print(l)\n",
        "res=map(lambda n:math.sqrt(n),l)  \n",
        "print(list(res))  "
      ],
      "metadata": {
        "colab": {
          "base_uri": "https://localhost:8080/"
        },
        "id": "lEkhtvxOWHuJ",
        "outputId": "14cc5e01-6d65-4e0d-9d05-efeb90efd1c6"
      },
      "execution_count": 3,
      "outputs": [
        {
          "output_type": "stream",
          "name": "stdout",
          "text": [
            "[2, 4, 6, 8, 10, 12, 14]\n",
            "[1.4142135623730951, 2.0, 2.449489742783178, 2.8284271247461903, 3.1622776601683795, 3.4641016151377544, 3.7416573867739413]\n"
          ]
        }
      ]
    },
    {
      "cell_type": "markdown",
      "source": [
        "Write a program to find whether the given number is happy num or not"
      ],
      "metadata": {
        "id": "xrjSPEl2WaVU"
      }
    },
    {
      "cell_type": "code",
      "source": [
        "n=int(input(\"Enter the number:\"))\n",
        "while(n>1):\n",
        "  sum=0\n",
        "  for i in range(0,len(str(n))+1):\n",
        "    rem=n%10\n",
        "    sum=sum+(rem*rem)\n",
        "    div=n//10\n",
        "  n=sum\n",
        "print(n)\n",
        "if(n==1):\n",
        "  print(\"It is happy number\")\n",
        "else:\n",
        "  print(\"It is not happy number\")"
      ],
      "metadata": {
        "colab": {
          "base_uri": "https://localhost:8080/"
        },
        "id": "XPAnQ5YyWbIu",
        "outputId": "6691f1c4-91d0-407d-88a8-4325941903ee"
      },
      "execution_count": 5,
      "outputs": [
        {
          "output_type": "stream",
          "name": "stdout",
          "text": [
            "Enter the number:1\n",
            "1\n",
            "It is happy number\n"
          ]
        }
      ]
    },
    {
      "cell_type": "markdown",
      "source": [
        "# Four pillars of OOPS:\n",
        "\n",
        "Abstraction- Hiding the implementation part showing what is required for the users is called abstraction. Eg: exe.file We can make class or method as abstract, opposite to abstract is concrete.\n",
        "\n",
        "Encapsulation- There are 3 types\n",
        "\n",
        "           1. public- one class info can be accessed by any other class\n",
        "           2. private- can be used where it is declared/not in inherited class\n",
        "           3. protected- can be accessed only where it got  declared or which\n",
        "            ever class inherited from this class there also we can use\n",
        "           4. _ _(double underscore)- private\n",
        "           5. _(single underscore)- protected"
      ],
      "metadata": {
        "id": "fnixMDqmWl_4"
      }
    },
    {
      "cell_type": "markdown",
      "source": [
        "Inheritance- There are 2 classes\n",
        "\n",
        "         1. Base class- parent class\n",
        "         2. Derived Class- child class\n",
        "            It will inherit properities of base class\n",
        "         Types of inheritance:\n",
        "         1. Single Inheritance\n",
        "         2. Multiple Inheritance\n",
        "         3. Multilevel Inheritance\n",
        "         4. Hierarchial Inheritance\n",
        "         5. Hybrid Inheritance "
      ],
      "metadata": {
        "id": "l6QMy368Wwzy"
      }
    },
    {
      "cell_type": "markdown",
      "source": [
        "**Polymorphism**"
      ],
      "metadata": {
        "id": "f5ORMLpTW3NM"
      }
    },
    {
      "cell_type": "code",
      "source": [
        "#abstraction\n",
        "from abc import ABC,abstractmethod\n",
        "class abstractdemo(ABC):\n",
        "  @abstractmethod   #decorator\n",
        "  def display(self):\n",
        "    None\n",
        "  @abstractmethod\n",
        "  def show(self):\n",
        "    None\n",
        "#changing abstract to concrete\n",
        "class demo(abstractdemo):\n",
        "  def display(self):\n",
        "    print(\"Abstraction method\")\n",
        "  def show(self):\n",
        "    print(\"2nd function\")\n",
        "obj=demo() \n",
        "obj.display()\n",
        "obj.show() "
      ],
      "metadata": {
        "colab": {
          "base_uri": "https://localhost:8080/"
        },
        "id": "lGxNYqdIW7h4",
        "outputId": "e40aecaa-e7a1-43fa-d3a7-dfda19d68d67"
      },
      "execution_count": 6,
      "outputs": [
        {
          "output_type": "stream",
          "name": "stdout",
          "text": [
            "Abstraction method\n",
            "2nd function\n"
          ]
        }
      ]
    },
    {
      "cell_type": "code",
      "source": [
        "#single inheritance\n",
        "class parent:      #base class\n",
        "  def display(self):\n",
        "    print(\"parent class\")\n",
        "class child(parent):      #child inherits parent\n",
        "  def show(self):\n",
        "    print(\"child class\") \n",
        "c=child()               #c is object for child class\n",
        "c.display()\n",
        "c.show()  "
      ],
      "metadata": {
        "colab": {
          "base_uri": "https://localhost:8080/"
        },
        "id": "hZhbGjQtW_32",
        "outputId": "c64e3aac-f33c-4d45-cb04-e3a940069027"
      },
      "execution_count": 7,
      "outputs": [
        {
          "output_type": "stream",
          "name": "stdout",
          "text": [
            "parent class\n",
            "child class\n"
          ]
        }
      ]
    },
    {
      "cell_type": "code",
      "source": [
        "#program for single inheritance\n",
        "class A:\n",
        "  n=30\n",
        "class B(A):\n",
        "  def calc(self):\n",
        "    c=self.n+70\n",
        "    print(c)\n",
        "obj=B()\n",
        "obj.calc()  "
      ],
      "metadata": {
        "colab": {
          "base_uri": "https://localhost:8080/"
        },
        "id": "5WIlAA4bXDtJ",
        "outputId": "a1557d98-13de-4e30-a76a-6182d2b1b6f8"
      },
      "execution_count": 9,
      "outputs": [
        {
          "output_type": "stream",
          "name": "stdout",
          "text": [
            "100\n"
          ]
        }
      ]
    },
    {
      "cell_type": "code",
      "source": [
        "#multiple inheritance\n",
        "class mom:\n",
        "  def mdisplay(self):\n",
        "    print(\"mom class\")\n",
        "class dad:\n",
        "  def ddisplay(self):\n",
        "    print(\"dad class\")\n",
        "class child(mom,dad):\n",
        "  def cdisplay(self):\n",
        "    print(\"child class\")\n",
        "c1=child()\n",
        "c1.mdisplay()\n",
        "c1.ddisplay()\n",
        "c1.cdisplay() "
      ],
      "metadata": {
        "colab": {
          "base_uri": "https://localhost:8080/"
        },
        "id": "3oMVC-QhXGVH",
        "outputId": "a64b357f-1e62-4134-aa68-ce148778b2c1"
      },
      "execution_count": 10,
      "outputs": [
        {
          "output_type": "stream",
          "name": "stdout",
          "text": [
            "mom class\n",
            "dad class\n",
            "child class\n"
          ]
        }
      ]
    },
    {
      "cell_type": "code",
      "source": [
        "#multilevel inheritance\n",
        "class grandparent:\n",
        "  def display(self):\n",
        "    print(\"grandparent class\")\n",
        "class parent(grandparent):\n",
        "  def show(self):\n",
        "    print(\"parent class\")\n",
        "class child(parent):\n",
        "  def cdisplay(self):\n",
        "    print(\"child class\")\n",
        "c1=child()\n",
        "c1.display()\n",
        "c1.show()\n",
        "c1.cdisplay() "
      ],
      "metadata": {
        "colab": {
          "base_uri": "https://localhost:8080/"
        },
        "id": "7FIOlVl6XKC4",
        "outputId": "d2b7ffd7-5c81-44df-a7c3-d93cf1fa8da5"
      },
      "execution_count": 11,
      "outputs": [
        {
          "output_type": "stream",
          "name": "stdout",
          "text": [
            "grandparent class\n",
            "parent class\n",
            "child class\n"
          ]
        }
      ]
    },
    {
      "cell_type": "code",
      "source": [
        "#hierarchial inheritance\n",
        "class parent:\n",
        "  def display(self):\n",
        "    print(\"class parent\")\n",
        "class child1(parent):\n",
        "  def c1show(self):\n",
        "    print(\"child1 class\")\n",
        "class child2(parent):\n",
        "  def c2show(self):\n",
        "    print(\"child2 class\")\n",
        "c1=child1()\n",
        "c1.c1show()\n",
        "c1.display()\n",
        "c2=child2()\n",
        "c2.c2show()\n",
        "c2.display()  "
      ],
      "metadata": {
        "colab": {
          "base_uri": "https://localhost:8080/"
        },
        "id": "l-ZmHU8mXNqY",
        "outputId": "19d1ba93-609a-4344-b5e7-10a83375d6da"
      },
      "execution_count": 12,
      "outputs": [
        {
          "output_type": "stream",
          "name": "stdout",
          "text": [
            "child1 class\n",
            "class parent\n",
            "child2 class\n",
            "class parent\n"
          ]
        }
      ]
    },
    {
      "cell_type": "code",
      "source": [
        "#hybrid inheritance\n",
        "class parent:\n",
        "  def display(self):\n",
        "    print(\"parent class\")\n",
        "class child1(parent):\n",
        "  def c1show(self):\n",
        "    print(\"child1 class\")\n",
        "class child2(parent):\n",
        "  def c2show(self):\n",
        "    print(\"child2 class\")\n",
        "class kid1(child1):\n",
        "  def k1display(self):\n",
        "    print(\"kid1 class\")\n",
        "class kid2(child1):\n",
        "  def k2display(self):\n",
        "    print(\"kid2 class\")\n",
        "class kidd1(child2):\n",
        "  def k1show(self):\n",
        "    print(\"kidd1 class\")\n",
        "class kidd2(child2):\n",
        "  def k2show(self):\n",
        "    print(\"kidd2 class\")"
      ],
      "metadata": {
        "id": "RwcgHHRVXQZW"
      },
      "execution_count": 13,
      "outputs": []
    }
  ]
}