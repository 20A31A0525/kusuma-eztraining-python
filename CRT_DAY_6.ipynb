{
  "nbformat": 4,
  "nbformat_minor": 0,
  "metadata": {
    "colab": {
      "provenance": [],
      "authorship_tag": "ABX9TyPq/RJ1I14RggTwW0itC1AH",
      "include_colab_link": true
    },
    "kernelspec": {
      "name": "python3",
      "display_name": "Python 3"
    },
    "language_info": {
      "name": "python"
    }
  },
  "cells": [
    {
      "cell_type": "markdown",
      "metadata": {
        "id": "view-in-github",
        "colab_type": "text"
      },
      "source": [
        "<a href=\"https://colab.research.google.com/github/20A31A0525/kusuma-eztraining-python/blob/main/CRT_DAY_6.ipynb\" target=\"_parent\"><img src=\"https://colab.research.google.com/assets/colab-badge.svg\" alt=\"Open In Colab\"/></a>"
      ]
    },
    {
      "cell_type": "markdown",
      "source": [],
      "metadata": {
        "id": "mN3EUDubz1SS"
      }
    },
    {
      "cell_type": "markdown",
      "source": [
        "# **EXCEPTION HANDLING** \n",
        "\n",
        "When there is exception the developer doesn't want interuption or desturbance in the program flow to achive this we are using exception handling."
      ],
      "metadata": {
        "id": "Z0VX1kK_pRGP"
      }
    },
    {
      "cell_type": "code",
      "source": [
        "a=int(input())\n",
        "b=int(input())\n",
        "try:\n",
        "  print(a/b)\n",
        "except Exception as e:\n",
        "  print(\"The number is invalid and exception occur is:\",e)\n",
        "\n",
        "print(\"Bye\")"
      ],
      "metadata": {
        "id": "ywEYOz2Ut9mu",
        "colab": {
          "base_uri": "https://localhost:8080/"
        },
        "outputId": "1d048a6a-10ee-40a3-b5c5-726950237b5e"
      },
      "execution_count": null,
      "outputs": [
        {
          "output_type": "stream",
          "name": "stdout",
          "text": [
            "10\n",
            "1\n",
            "10.0\n",
            "Bye\n"
          ]
        }
      ]
    },
    {
      "cell_type": "code",
      "source": [
        "a=int(input())\n",
        "b=int(input())\n",
        "try:\n",
        "  print(a/b)\n",
        "except Exception as e:\n",
        "  print(\"The number is invalid and exception occur is:\",e)\n",
        "\n",
        "print(\"Bye\")"
      ],
      "metadata": {
        "colab": {
          "base_uri": "https://localhost:8080/"
        },
        "outputId": "1d048a6a-10ee-40a3-b5c5-726950237b5e",
        "id": "hWXDG9lhz_6f"
      },
      "execution_count": null,
      "outputs": [
        {
          "output_type": "stream",
          "name": "stdout",
          "text": [
            "10\n",
            "1\n",
            "10.0\n",
            "Bye\n"
          ]
        }
      ]
    },
    {
      "cell_type": "code",
      "source": [
        "a=10\n",
        "try:\n",
        "  b=int(input(\"Enter b value\"))\n",
        "  print(\"resources are opened\")\n",
        "  print(a/b)\n",
        "except ZeroDivisionError as e:\n",
        "  print(\"please not ,number cant be divisible by zero\",e)\n",
        "except ValueError as e:\n",
        "  print(\"Invalid input\",e)\n",
        "except Exception as e:\n",
        "  print(\"Other errors\")\n",
        "finally:\n",
        "  print(\"resources are closed\")"
      ],
      "metadata": {
        "colab": {
          "base_uri": "https://localhost:8080/"
        },
        "id": "5opC9iwHrF0E",
        "outputId": "2ba394fa-588b-44f0-ec1e-d99654b4b30c"
      },
      "execution_count": null,
      "outputs": [
        {
          "output_type": "stream",
          "name": "stdout",
          "text": [
            "Enter b value0\n",
            "resources are opened\n",
            "please not ,number cant be divisible by zero division by zero\n",
            "resources are closed\n"
          ]
        }
      ]
    },
    {
      "cell_type": "code",
      "source": [
        "x=11\n",
        "if x%2!=0:\n",
        "  raise Exception(\"x should be even number\")\n",
        "else:\n",
        "  print(\"The number s even number\")"
      ],
      "metadata": {
        "colab": {
          "base_uri": "https://localhost:8080/",
          "height": 235
        },
        "id": "iiose52ZwGDS",
        "outputId": "7f17bf54-15b4-49c3-d946-d5e37fee3ba1"
      },
      "execution_count": null,
      "outputs": [
        {
          "output_type": "error",
          "ename": "Exception",
          "evalue": "ignored",
          "traceback": [
            "\u001b[0;31m---------------------------------------------------------------------------\u001b[0m",
            "\u001b[0;31mException\u001b[0m                                 Traceback (most recent call last)",
            "\u001b[0;32m<ipython-input-9-93c26e37ac01>\u001b[0m in \u001b[0;36m<module>\u001b[0;34m\u001b[0m\n\u001b[1;32m      1\u001b[0m \u001b[0mx\u001b[0m\u001b[0;34m=\u001b[0m\u001b[0;36m11\u001b[0m\u001b[0;34m\u001b[0m\u001b[0;34m\u001b[0m\u001b[0m\n\u001b[1;32m      2\u001b[0m \u001b[0;32mif\u001b[0m \u001b[0mx\u001b[0m\u001b[0;34m%\u001b[0m\u001b[0;36m2\u001b[0m\u001b[0;34m!=\u001b[0m\u001b[0;36m0\u001b[0m\u001b[0;34m:\u001b[0m\u001b[0;34m\u001b[0m\u001b[0;34m\u001b[0m\u001b[0m\n\u001b[0;32m----> 3\u001b[0;31m   \u001b[0;32mraise\u001b[0m \u001b[0mException\u001b[0m\u001b[0;34m(\u001b[0m\u001b[0;34m\"x should be even number\"\u001b[0m\u001b[0;34m)\u001b[0m\u001b[0;34m\u001b[0m\u001b[0;34m\u001b[0m\u001b[0m\n\u001b[0m\u001b[1;32m      4\u001b[0m \u001b[0;32melse\u001b[0m\u001b[0;34m:\u001b[0m\u001b[0;34m\u001b[0m\u001b[0;34m\u001b[0m\u001b[0m\n\u001b[1;32m      5\u001b[0m   \u001b[0mprint\u001b[0m\u001b[0;34m(\u001b[0m\u001b[0;34m\"The number s even number\"\u001b[0m\u001b[0;34m)\u001b[0m\u001b[0;34m\u001b[0m\u001b[0;34m\u001b[0m\u001b[0m\n",
            "\u001b[0;31mException\u001b[0m: x should be even number"
          ]
        }
      ]
    },
    {
      "cell_type": "markdown",
      "source": [
        "# **OOPS-Object orientend programming structure:**\n",
        "\n",
        "Its an efficent concept used in all programming concepts like java and python for multiple reasons we use oops concepts for example code resusability,data security, hiding data.\n",
        "\n",
        "**Class:**\n",
        "\n",
        "its a blue print example birds,laptops.\n",
        "\n",
        "**Object:**\n",
        "\n",
        "its a thing created based on class.\n",
        "Note: one class can have multiple objects \n",
        "Example: birds is a class, parrot,peacock,dock are objects,\n",
        "Example: class is laptop,lenova,hp,del are objects. "
      ],
      "metadata": {
        "id": "wxN_Owh95ghp"
      }
    },
    {
      "cell_type": "code",
      "source": [
        "class Computer():\n",
        "  def config(self):#This is called as method not a function\n",
        "  \n",
        "    print(\"Yes\")\n",
        "ob=Computer()\n",
        "ob.config()\n",
        "ab1=Computer()\n",
        "ob.config()\n"
      ],
      "metadata": {
        "colab": {
          "base_uri": "https://localhost:8080/"
        },
        "id": "ZTZtBolQ72Da",
        "outputId": "d0c9dc13-45ed-4a13-8dd3-a21381fd7059"
      },
      "execution_count": null,
      "outputs": [
        {
          "output_type": "stream",
          "name": "stdout",
          "text": [
            "Yes\n",
            "Yes\n"
          ]
        }
      ]
    },
    {
      "cell_type": "markdown",
      "source": [
        "Cunstructor"
      ],
      "metadata": {
        "id": "v01F9-Uf-o3B"
      }
    },
    {
      "cell_type": "code",
      "source": [
        "class employee:\n",
        "  def __init__(self,id,name):\n",
        "    self.id=id\n",
        "    self.name=name\n",
        "  def display(self):\n",
        "    print(\"employee id=\",self.id,\"employee name=\",self.name)\n",
        "e=employee(12,'KK')\n",
        "f=employee(13,'LL')\n",
        "e.display()\n",
        "f.display()"
      ],
      "metadata": {
        "colab": {
          "base_uri": "https://localhost:8080/"
        },
        "id": "MUSJYmGf8zoA",
        "outputId": "03164bc9-64e1-499f-cd5b-f0c9b886372e"
      },
      "execution_count": null,
      "outputs": [
        {
          "output_type": "stream",
          "name": "stdout",
          "text": [
            "employee id= 12 employee name= KK\n",
            "employee id= 13 employee name= LL\n"
          ]
        }
      ]
    },
    {
      "cell_type": "code",
      "source": [
        "class computer():\n",
        "  a=10\n",
        "  b=20\n",
        "  print(\"class variable inside the class\",a)\n",
        "  def confi(self):\n",
        "    c=100\n",
        "    print(\"Yes\")\n",
        "    print(\"Instance acess\",self.b)\n",
        "a=computer()\n",
        "print(a.a)\n",
        "print(a.b)\n",
        "a.confi()\n"
      ],
      "metadata": {
        "colab": {
          "base_uri": "https://localhost:8080/"
        },
        "id": "IKCv-gBo_rU1",
        "outputId": "7222c150-9071-4ff8-8e46-d94a0fd990dc"
      },
      "execution_count": null,
      "outputs": [
        {
          "output_type": "stream",
          "name": "stdout",
          "text": [
            "class variable inside the class 10\n",
            "10\n",
            "20\n",
            "Yes\n",
            "Instance acess 20\n"
          ]
        }
      ]
    },
    {
      "cell_type": "code",
      "source": [],
      "metadata": {
        "id": "kcHrukQODOVM"
      },
      "execution_count": null,
      "outputs": []
    }
  ]
}